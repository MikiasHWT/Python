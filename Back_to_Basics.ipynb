{
 "cells": [
  {
   "cell_type": "code",
   "execution_count": 9,
   "metadata": {},
   "outputs": [
    {
     "data": {
      "text/html": [
       "\n",
       "<h1 style=\"text-align:center;\">Back to Basics: Python</h1>\n",
       "<br/>\n",
       "<h3 style=\"text-align:left;\">MikiasHWT</h3>\n",
       "<h3 style=\"text-align:left;\">October 03, 2024</h3>\n"
      ],
      "text/plain": [
       "<IPython.core.display.HTML object>"
      ]
     },
     "metadata": {},
     "output_type": "display_data"
    }
   ],
   "source": [
    "from IPython.display import display, HTML\n",
    "from datetime import datetime\n",
    "\n",
    "# Notebook title\n",
    "Notebook_title = \"Back to Basics\"\n",
    "\n",
    "# Current date\n",
    "current_date = datetime.now().strftime(\"%B %d, %Y\")\n",
    "\n",
    "# Create the HTML string with title, date, and author\n",
    "html_content = f\"\"\"\n",
    "<h1 style=\"text-align:center;\">{Notebook_title}: Python</h1>\n",
    "<br/>\n",
    "<h3 style=\"text-align:left;\">MikiasHWT</h3>\n",
    "<h3 style=\"text-align:left;\">{current_date}</h3>\n",
    "\"\"\"\n",
    "\n",
    "# Display the HTML content in the output\n",
    "display(HTML(html_content))"
   ]
  },
  {
   "cell_type": "markdown",
   "metadata": {},
   "source": [
    "# Prep Workplace"
   ]
  },
  {
   "cell_type": "code",
   "execution_count": 10,
   "metadata": {},
   "outputs": [],
   "source": [
    "import numpy as np\n",
    "import pandas as pd\n",
    "\n",
    "# To show multiple lines in output\n",
    "from IPython.core.interactiveshell import InteractiveShell\n",
    "InteractiveShell.ast_node_interactivity = \"all\""
   ]
  },
  {
   "cell_type": "code",
   "execution_count": 11,
   "metadata": {},
   "outputs": [],
   "source": [
    "######################## Git/venv/Python Good practices: ########################\n",
    "# Save package requirements as txt file using pip freeze. \n",
    "# Exclude .venv from git repo (i will choose to include it in .gitignore for now)\n",
    "# Include session_info.show() at end of scripts\n",
    "\n",
    "# pip freeze > requirements.txt (to save)\n",
    "# pip install -r requirements.txt (to install)\n",
    "# pip install session_info "
   ]
  },
  {
   "cell_type": "markdown",
   "metadata": {},
   "source": [
    "# Data Types"
   ]
  },
  {
   "cell_type": "markdown",
   "metadata": {},
   "source": [
    "## Primitive data-types\n",
    "Int, Float, Bool, String"
   ]
  },
  {
   "cell_type": "markdown",
   "metadata": {},
   "source": [
    "### Integer"
   ]
  },
  {
   "cell_type": "code",
   "execution_count": 12,
   "metadata": {},
   "outputs": [
    {
     "data": {
      "text/plain": [
       "int"
      ]
     },
     "execution_count": 12,
     "metadata": {},
     "output_type": "execute_result"
    }
   ],
   "source": [
    "# Integer\n",
    "type(-12)"
   ]
  },
  {
   "cell_type": "markdown",
   "metadata": {},
   "source": [
    "### Double"
   ]
  },
  {
   "cell_type": "code",
   "execution_count": 13,
   "metadata": {},
   "outputs": [
    {
     "data": {
      "text/plain": [
       "float"
      ]
     },
     "execution_count": 13,
     "metadata": {},
     "output_type": "execute_result"
    }
   ],
   "source": [
    "# Double\n",
    "type(12.5)"
   ]
  },
  {
   "cell_type": "markdown",
   "metadata": {},
   "source": [
    "### Complex"
   ]
  },
  {
   "cell_type": "code",
   "execution_count": 14,
   "metadata": {},
   "outputs": [
    {
     "data": {
      "text/plain": [
       "complex"
      ]
     },
     "execution_count": 14,
     "metadata": {},
     "output_type": "execute_result"
    }
   ],
   "source": [
    "# Complex\n",
    "type(3j)"
   ]
  },
  {
   "cell_type": "markdown",
   "metadata": {},
   "source": [
    "### Boolean"
   ]
  },
  {
   "cell_type": "code",
   "execution_count": 15,
   "metadata": {},
   "outputs": [
    {
     "data": {
      "text/plain": [
       "bool"
      ]
     },
     "execution_count": 15,
     "metadata": {},
     "output_type": "execute_result"
    },
    {
     "data": {
      "text/plain": [
       "bool"
      ]
     },
     "execution_count": 15,
     "metadata": {},
     "output_type": "execute_result"
    },
    {
     "data": {
      "text/plain": [
       "str"
      ]
     },
     "execution_count": 15,
     "metadata": {},
     "output_type": "execute_result"
    },
    {
     "data": {
      "text/plain": [
       "str"
      ]
     },
     "execution_count": 15,
     "metadata": {},
     "output_type": "execute_result"
    }
   ],
   "source": [
    "# Boolean\n",
    "type(False)\n",
    "type(True)\n",
    "type(\"False\")\n",
    "type(\"True\")"
   ]
  },
  {
   "cell_type": "markdown",
   "metadata": {},
   "source": [
    "### String"
   ]
  },
  {
   "cell_type": "code",
   "execution_count": 16,
   "metadata": {},
   "outputs": [],
   "source": [
    "String1='First String' # Single quotes\n",
    "String2=\"Second String\" # Double quotes"
   ]
  },
  {
   "cell_type": "code",
   "execution_count": 17,
   "metadata": {},
   "outputs": [
    {
     "data": {
      "text/plain": [
       "str"
      ]
     },
     "execution_count": 17,
     "metadata": {},
     "output_type": "execute_result"
    },
    {
     "data": {
      "text/plain": [
       "str"
      ]
     },
     "execution_count": 17,
     "metadata": {},
     "output_type": "execute_result"
    }
   ],
   "source": [
    "# Strings\n",
    "type(String1) \n",
    "type(String2)\n"
   ]
  },
  {
   "cell_type": "code",
   "execution_count": 18,
   "metadata": {},
   "outputs": [
    {
     "data": {
      "text/plain": [
       "'First StringFirst String'"
      ]
     },
     "execution_count": 18,
     "metadata": {},
     "output_type": "execute_result"
    }
   ],
   "source": [
    "# Repeat\n",
    "String1*2"
   ]
  },
  {
   "cell_type": "code",
   "execution_count": 19,
   "metadata": {},
   "outputs": [
    {
     "data": {
      "text/plain": [
       "'F'"
      ]
     },
     "execution_count": 19,
     "metadata": {},
     "output_type": "execute_result"
    }
   ],
   "source": [
    "# Index\n",
    "String1[0]"
   ]
  },
  {
   "cell_type": "code",
   "execution_count": 20,
   "metadata": {},
   "outputs": [
    {
     "data": {
      "text/plain": [
       "'Fir'"
      ]
     },
     "execution_count": 20,
     "metadata": {},
     "output_type": "execute_result"
    }
   ],
   "source": [
    "# Slice\n",
    "String1[:3]"
   ]
  },
  {
   "cell_type": "code",
   "execution_count": 21,
   "metadata": {},
   "outputs": [
    {
     "data": {
      "text/plain": [
       "'First'"
      ]
     },
     "execution_count": 21,
     "metadata": {},
     "output_type": "execute_result"
    }
   ],
   "source": [
    "# Range Slice\n",
    "String1[0:5]"
   ]
  },
  {
   "cell_type": "code",
   "execution_count": 22,
   "metadata": {},
   "outputs": [
    {
     "data": {
      "text/plain": [
       "'First String & Second String'"
      ]
     },
     "execution_count": 22,
     "metadata": {},
     "output_type": "execute_result"
    }
   ],
   "source": [
    "# Concatenate\n",
    "String1 + \" & \" + String2\n"
   ]
  },
  {
   "cell_type": "code",
   "execution_count": 23,
   "metadata": {},
   "outputs": [
    {
     "data": {
      "text/plain": [
       "'First & Second'"
      ]
     },
     "execution_count": 23,
     "metadata": {},
     "output_type": "execute_result"
    }
   ],
   "source": [
    "# Slice and concatenate\n",
    "String1[0:5] + \" & \" + String2[0:6]"
   ]
  },
  {
   "cell_type": "code",
   "execution_count": 24,
   "metadata": {},
   "outputs": [
    {
     "data": {
      "text/plain": [
       "'String'"
      ]
     },
     "execution_count": 24,
     "metadata": {},
     "output_type": "execute_result"
    }
   ],
   "source": [
    "# Proper capitalization\n",
    "str.capitalize('string')"
   ]
  },
  {
   "cell_type": "code",
   "execution_count": 25,
   "metadata": {},
   "outputs": [
    {
     "data": {
      "text/plain": [
       "12"
      ]
     },
     "execution_count": 25,
     "metadata": {},
     "output_type": "execute_result"
    }
   ],
   "source": [
    "# Length\n",
    "len(String1)"
   ]
  },
  {
   "cell_type": "code",
   "execution_count": 26,
   "metadata": {},
   "outputs": [
    {
     "data": {
      "text/plain": [
       "False"
      ]
     },
     "execution_count": 26,
     "metadata": {},
     "output_type": "execute_result"
    }
   ],
   "source": [
    "# Determine if digits\n",
    "String1.isdigit()"
   ]
  },
  {
   "cell_type": "code",
   "execution_count": 27,
   "metadata": {},
   "outputs": [
    {
     "data": {
      "text/plain": [
       "True"
      ]
     },
     "execution_count": 27,
     "metadata": {},
     "output_type": "execute_result"
    }
   ],
   "source": [
    "String3=\"12345\"\n",
    "String3.isdigit()"
   ]
  },
  {
   "cell_type": "code",
   "execution_count": 28,
   "metadata": {},
   "outputs": [
    {
     "data": {
      "text/plain": [
       "'First String'"
      ]
     },
     "execution_count": 28,
     "metadata": {},
     "output_type": "execute_result"
    },
    {
     "data": {
      "text/plain": [
       "'12345'"
      ]
     },
     "execution_count": 28,
     "metadata": {},
     "output_type": "execute_result"
    },
    {
     "data": {
      "text/plain": [
       "'12345 String'"
      ]
     },
     "execution_count": 28,
     "metadata": {},
     "output_type": "execute_result"
    }
   ],
   "source": [
    "# Strings are immutable, but new string can be made from combinations\n",
    "String4= String1.replace('First', String3)\n",
    "String1\n",
    "String3\n",
    "String4"
   ]
  },
  {
   "cell_type": "code",
   "execution_count": 29,
   "metadata": {},
   "outputs": [
    {
     "data": {
      "text/plain": [
       "-1"
      ]
     },
     "execution_count": 29,
     "metadata": {},
     "output_type": "execute_result"
    }
   ],
   "source": [
    "# to search for a substring within a string and return the index of the first occurrence of the substring. \n",
    "# If the substring is not found, it returns -1.\n",
    "String1.find(String3)"
   ]
  },
  {
   "cell_type": "code",
   "execution_count": 30,
   "metadata": {},
   "outputs": [
    {
     "data": {
      "text/plain": [
       "0"
      ]
     },
     "execution_count": 30,
     "metadata": {},
     "output_type": "execute_result"
    }
   ],
   "source": [
    "# Value of String3 is found starting at index [0] of String 4\n",
    "String4.find(String3)"
   ]
  },
  {
   "cell_type": "code",
   "execution_count": 31,
   "metadata": {},
   "outputs": [
    {
     "data": {
      "text/plain": [
       "6"
      ]
     },
     "execution_count": 31,
     "metadata": {},
     "output_type": "execute_result"
    }
   ],
   "source": [
    "# Value of String 5 is found starting at index [6] of String 4\n",
    "String5=\"String\"\n",
    "String4.find(String5)"
   ]
  },
  {
   "cell_type": "code",
   "execution_count": 32,
   "metadata": {},
   "outputs": [],
   "source": [
    "# Data type conversion \n",
    "\n",
    "# TypeError: can only concatenate str (not \"int\") to str\n",
    "\n",
    "# x = 2\n",
    "# y = \"Part \"\n",
    "# combo = (y) + (x)\n",
    "# combo"
   ]
  },
  {
   "cell_type": "code",
   "execution_count": 33,
   "metadata": {},
   "outputs": [
    {
     "data": {
      "text/plain": [
       "'Part 2'"
      ]
     },
     "execution_count": 33,
     "metadata": {},
     "output_type": "execute_result"
    }
   ],
   "source": [
    "# Data type conversion\n",
    "x = 2\n",
    "y = \"Part \"\n",
    "combo = (y) + str(x)\n",
    "combo"
   ]
  },
  {
   "cell_type": "code",
   "execution_count": 34,
   "metadata": {},
   "outputs": [],
   "source": [
    "# Tripple quotes\n",
    "multiline=\"\"\"\n",
    "Multiline text\n",
    "between tripple quotes \n",
    "is also\n",
    "an acceptable \n",
    "string type\n",
    "\"\"\""
   ]
  },
  {
   "cell_type": "code",
   "execution_count": 35,
   "metadata": {},
   "outputs": [
    {
     "data": {
      "text/plain": [
       "'\\nMultiline text\\nbetween tripple quotes \\nis also\\nan acceptable \\nstring type\\n'"
      ]
     },
     "execution_count": 35,
     "metadata": {},
     "output_type": "execute_result"
    }
   ],
   "source": [
    "multiline"
   ]
  },
  {
   "cell_type": "code",
   "execution_count": 36,
   "metadata": {},
   "outputs": [
    {
     "data": {
      "text/plain": [
       "str"
      ]
     },
     "execution_count": 36,
     "metadata": {},
     "output_type": "execute_result"
    }
   ],
   "source": [
    "type(multiline)"
   ]
  },
  {
   "cell_type": "markdown",
   "metadata": {},
   "source": [
    "## Non-Primitive\n",
    "List, Array, Tuple, Set, Dictionary, Stacks, Queue, Graphs, Trees, Files"
   ]
  },
  {
   "cell_type": "markdown",
   "metadata": {},
   "source": [
    "### Lists\n",
    "- An ordered, mutable collection of items, \n",
    "  - e.g., [1, 2, 3, \"apple\"]"
   ]
  },
  {
   "cell_type": "code",
   "execution_count": 37,
   "metadata": {},
   "outputs": [],
   "source": [
    "# Lists\n",
    "num_list=[1,2,3]"
   ]
  },
  {
   "cell_type": "code",
   "execution_count": 38,
   "metadata": {},
   "outputs": [
    {
     "data": {
      "text/plain": [
       "list"
      ]
     },
     "execution_count": 38,
     "metadata": {},
     "output_type": "execute_result"
    }
   ],
   "source": [
    "type(num_list)"
   ]
  },
  {
   "cell_type": "code",
   "execution_count": 39,
   "metadata": {},
   "outputs": [],
   "source": [
    "char_list=[\"First Name\", \"Middle Name\", \"Last Name\"]"
   ]
  },
  {
   "cell_type": "code",
   "execution_count": 40,
   "metadata": {},
   "outputs": [
    {
     "data": {
      "text/plain": [
       "list"
      ]
     },
     "execution_count": 40,
     "metadata": {},
     "output_type": "execute_result"
    }
   ],
   "source": [
    "type(char_list)"
   ]
  },
  {
   "cell_type": "code",
   "execution_count": 41,
   "metadata": {},
   "outputs": [],
   "source": [
    "mix_list=[\"First\", 10, 3j, [\"Internal\", \"List\"], \"Last\", 20, ]"
   ]
  },
  {
   "cell_type": "code",
   "execution_count": 42,
   "metadata": {},
   "outputs": [
    {
     "data": {
      "text/plain": [
       "list"
      ]
     },
     "execution_count": 42,
     "metadata": {},
     "output_type": "execute_result"
    }
   ],
   "source": [
    "type(mix_list)"
   ]
  },
  {
   "cell_type": "code",
   "execution_count": 43,
   "metadata": {},
   "outputs": [
    {
     "data": {
      "text/plain": [
       "['Internal', 'List']"
      ]
     },
     "execution_count": 43,
     "metadata": {},
     "output_type": "execute_result"
    }
   ],
   "source": [
    "# Lists can be indexed (and nested)\n",
    "mix_list[3]"
   ]
  },
  {
   "cell_type": "code",
   "execution_count": 44,
   "metadata": {},
   "outputs": [],
   "source": [
    "# Lists can be appended\n",
    "mix_list.append(\"New Addition\")"
   ]
  },
  {
   "cell_type": "code",
   "execution_count": 45,
   "metadata": {},
   "outputs": [
    {
     "data": {
      "text/plain": [
       "['First', 10, 3j, ['Internal', 'List'], 'Last', 20, 'New Addition']"
      ]
     },
     "execution_count": 45,
     "metadata": {},
     "output_type": "execute_result"
    }
   ],
   "source": [
    "mix_list"
   ]
  },
  {
   "cell_type": "code",
   "execution_count": 46,
   "metadata": {},
   "outputs": [],
   "source": [
    "# Lists can be edited\n",
    "mix_list[5]=200000"
   ]
  },
  {
   "cell_type": "code",
   "execution_count": 47,
   "metadata": {},
   "outputs": [
    {
     "data": {
      "text/plain": [
       "['First', 10, 3j, ['Internal', 'List'], 'Last', 200000, 'New Addition']"
      ]
     },
     "execution_count": 47,
     "metadata": {},
     "output_type": "execute_result"
    }
   ],
   "source": [
    "mix_list"
   ]
  },
  {
   "cell_type": "markdown",
   "metadata": {},
   "source": [
    "### Array\n",
    "-Not used often\n",
    "-Similar to lists, with some differences. \n",
    "-Require specific module (import array as arr)\n",
    "\n",
    "- common type codes used with array:\n",
    "\n",
    "    - 'b': Signed char (1 byte)\n",
    "    - 'B': Unsigned char (1 byte)\n",
    "    - 'u': Unicode character (2 or 4 bytes, depending on the platform)\n",
    "    - 'h': Signed short (2 bytes)\n",
    "    - 'H': Unsigned short (2 bytes)\n",
    "    - 'i': Signed int (2 or 4 bytes)\n",
    "    - 'I': Unsigned int (2 or 4 bytes)\n",
    "    - 'l': Signed long (4 bytes)\n",
    "    - 'L': Unsigned long (4 bytes)\n",
    "    - 'f': Float (4 bytes)\n",
    "    - 'd': Double (8 bytes)"
   ]
  },
  {
   "cell_type": "code",
   "execution_count": 48,
   "metadata": {},
   "outputs": [
    {
     "data": {
      "text/plain": [
       "array.array"
      ]
     },
     "execution_count": 48,
     "metadata": {},
     "output_type": "execute_result"
    }
   ],
   "source": [
    "import array as arr\n",
    "\n",
    "# datatype inside array [] requires specification with a code. \n",
    "a = arr.array(\"I\",[3,6,9])\n",
    "type(a)"
   ]
  },
  {
   "cell_type": "code",
   "execution_count": 49,
   "metadata": {},
   "outputs": [
    {
     "data": {
      "text/plain": [
       "array('u', 'cats')"
      ]
     },
     "execution_count": 49,
     "metadata": {},
     "output_type": "execute_result"
    },
    {
     "data": {
      "text/plain": [
       "'a'"
      ]
     },
     "execution_count": 49,
     "metadata": {},
     "output_type": "execute_result"
    }
   ],
   "source": [
    "# Define the array of Unicode characters\n",
    "array_char = arr.array(\"u\", [\"c\", \"a\", \"t\", \"s\"])\n",
    "\n",
    "array_char\n",
    "\n",
    "# index\n",
    "array_char[1]\n",
    "\n"
   ]
  },
  {
   "cell_type": "code",
   "execution_count": 50,
   "metadata": {},
   "outputs": [
    {
     "name": "stdout",
     "output_type": "stream",
     "text": [
      "cats\n"
     ]
    }
   ],
   "source": [
    "# Use tounicode() method to convert to a string\n",
    "array_string = array_char.tounicode()\n",
    "\n",
    "# Print the array as a string\n",
    "print(array_string)  # Output: 'cats'"
   ]
  },
  {
   "cell_type": "markdown",
   "metadata": {},
   "source": [
    "### Tuples\n",
    "- An ordered, immutable collection of items, \n",
    "  - e.g., (1, 2, 3, \"apple\")"
   ]
  },
  {
   "cell_type": "code",
   "execution_count": 51,
   "metadata": {},
   "outputs": [],
   "source": [
    "# Tuples\n",
    "tpl =(1,2,3,3,4,5,5)"
   ]
  },
  {
   "cell_type": "code",
   "execution_count": 52,
   "metadata": {},
   "outputs": [
    {
     "data": {
      "text/plain": [
       "tuple"
      ]
     },
     "execution_count": 52,
     "metadata": {},
     "output_type": "execute_result"
    }
   ],
   "source": [
    "type(tpl)"
   ]
  },
  {
   "cell_type": "code",
   "execution_count": 53,
   "metadata": {},
   "outputs": [
    {
     "data": {
      "text/plain": [
       "3"
      ]
     },
     "execution_count": 53,
     "metadata": {},
     "output_type": "execute_result"
    }
   ],
   "source": [
    "# Tuple can be indexed\n",
    "tpl[2]"
   ]
  },
  {
   "cell_type": "code",
   "execution_count": 54,
   "metadata": {},
   "outputs": [],
   "source": [
    "# Tuples cannot be modified\n",
    "\n",
    "# TypeError: 'tuple' object does not support item assignment\n",
    "\n",
    "# tpl[2]=12"
   ]
  },
  {
   "cell_type": "code",
   "execution_count": 55,
   "metadata": {},
   "outputs": [],
   "source": [
    "# Tuples cannot be appended\n",
    "\n",
    "# AttributeError: 'tuple' object has no attribute 'append'\n",
    "\n",
    "# tpl.append(\"12\")"
   ]
  },
  {
   "cell_type": "markdown",
   "metadata": {},
   "source": [
    "### Sets\n",
    "- An unordered, mutable collection of unique items, \n",
    "  - e.g., {1, 2, 3}"
   ]
  },
  {
   "cell_type": "code",
   "execution_count": 56,
   "metadata": {},
   "outputs": [],
   "source": [
    "# Sets\n",
    "a_set={44,1,3,3,2,44}"
   ]
  },
  {
   "cell_type": "code",
   "execution_count": 57,
   "metadata": {},
   "outputs": [
    {
     "data": {
      "text/plain": [
       "set"
      ]
     },
     "execution_count": 57,
     "metadata": {},
     "output_type": "execute_result"
    }
   ],
   "source": [
    "type(a_set)"
   ]
  },
  {
   "cell_type": "code",
   "execution_count": 58,
   "metadata": {},
   "outputs": [
    {
     "data": {
      "text/plain": [
       "{1, 2, 3, 44}"
      ]
     },
     "execution_count": 58,
     "metadata": {},
     "output_type": "execute_result"
    }
   ],
   "source": [
    "# Sets dont output duplicate elements\n",
    "a_set"
   ]
  },
  {
   "cell_type": "code",
   "execution_count": 59,
   "metadata": {},
   "outputs": [],
   "source": [
    "# Sets cannot be indexed\n",
    "\n",
    "# TypeError: 'set' object is not subscriptable\n",
    "\n",
    "# a_set[3]"
   ]
  },
  {
   "cell_type": "code",
   "execution_count": 60,
   "metadata": {},
   "outputs": [],
   "source": [
    "# Sets cannot be modified \n",
    "\n",
    "# TypeError: 'set' object does not support item assignment\n",
    "\n",
    "# a_set[3]=126"
   ]
  },
  {
   "cell_type": "code",
   "execution_count": 61,
   "metadata": {},
   "outputs": [],
   "source": [
    "# Sets cannot be appended\n",
    "\n",
    "# AttributeError: 'set' object has no attribute 'append'\n",
    "\n",
    "# a_set.append(5)"
   ]
  },
  {
   "cell_type": "code",
   "execution_count": 62,
   "metadata": {},
   "outputs": [],
   "source": [
    "# Use case: sets\n",
    "set1={1,25,4,57,6,7,7,83,22}\n",
    "set2={7,6,1,65,78,23,84,22}"
   ]
  },
  {
   "cell_type": "code",
   "execution_count": 63,
   "metadata": {},
   "outputs": [
    {
     "data": {
      "text/plain": [
       "{1, 4, 6, 7, 22, 23, 25, 57, 65, 78, 83, 84}"
      ]
     },
     "execution_count": 63,
     "metadata": {},
     "output_type": "execute_result"
    }
   ],
   "source": [
    "# UNION: all unique elements from both sets\n",
    "set1 | set2"
   ]
  },
  {
   "cell_type": "code",
   "execution_count": 64,
   "metadata": {},
   "outputs": [
    {
     "data": {
      "text/plain": [
       "{1, 6, 7, 22}"
      ]
     },
     "execution_count": 64,
     "metadata": {},
     "output_type": "execute_result"
    }
   ],
   "source": [
    "# INTERSECTION: only the elements that are common to both sets\n",
    "set1 & set2"
   ]
  },
  {
   "cell_type": "code",
   "execution_count": 65,
   "metadata": {},
   "outputs": [
    {
     "data": {
      "text/plain": [
       "{4, 25, 57, 83}"
      ]
     },
     "execution_count": 65,
     "metadata": {},
     "output_type": "execute_result"
    }
   ],
   "source": [
    "# DIFFERENCE: the elements that are in set1 but not in set2\n",
    "set1 -  set2"
   ]
  },
  {
   "cell_type": "code",
   "execution_count": 66,
   "metadata": {},
   "outputs": [
    {
     "data": {
      "text/plain": [
       "{4, 23, 25, 57, 65, 78, 83, 84}"
      ]
     },
     "execution_count": 66,
     "metadata": {},
     "output_type": "execute_result"
    }
   ],
   "source": [
    "# SYMMETRIC DIFFERENCE: elements that are in either set1 or set2 but not in both\n",
    "set1 ^ set2"
   ]
  },
  {
   "cell_type": "code",
   "execution_count": 67,
   "metadata": {},
   "outputs": [
    {
     "data": {
      "text/plain": [
       "False"
      ]
     },
     "execution_count": 67,
     "metadata": {},
     "output_type": "execute_result"
    },
    {
     "data": {
      "text/plain": [
       "False"
      ]
     },
     "execution_count": 67,
     "metadata": {},
     "output_type": "execute_result"
    }
   ],
   "source": [
    "# SUBSET: Checks if all elements of one set are contained in another set. (includes the possibility that they are the same sets)\n",
    "set1 <= set2\n",
    "set1.issubset(set2)"
   ]
  },
  {
   "cell_type": "code",
   "execution_count": 68,
   "metadata": {},
   "outputs": [
    {
     "data": {
      "text/plain": [
       "False"
      ]
     },
     "execution_count": 68,
     "metadata": {},
     "output_type": "execute_result"
    }
   ],
   "source": [
    "# PROPER SUBSET: Checks if one set is a strict subset of another (but the sets are not equal).\n",
    "set1 < set2  # True if set1 is a proper subset of set2."
   ]
  },
  {
   "cell_type": "code",
   "execution_count": 69,
   "metadata": {},
   "outputs": [
    {
     "data": {
      "text/plain": [
       "False"
      ]
     },
     "execution_count": 69,
     "metadata": {},
     "output_type": "execute_result"
    },
    {
     "data": {
      "text/plain": [
       "False"
      ]
     },
     "execution_count": 69,
     "metadata": {},
     "output_type": "execute_result"
    }
   ],
   "source": [
    "# SUPERSET: Checks if one set contains all elements of another set. (includes the possibility that they are the same sets)\n",
    "set1 >= set2\n",
    "set1.issuperset(set2)"
   ]
  },
  {
   "cell_type": "code",
   "execution_count": 70,
   "metadata": {},
   "outputs": [
    {
     "data": {
      "text/plain": [
       "False"
      ]
     },
     "execution_count": 70,
     "metadata": {},
     "output_type": "execute_result"
    }
   ],
   "source": [
    "# PROPER SUPERSET: Checks if one set is a strict superset of another (but the sets are not equal).\n",
    "set1 > set2  # True if set1 is a proper superset of set2."
   ]
  },
  {
   "cell_type": "code",
   "execution_count": 71,
   "metadata": {},
   "outputs": [
    {
     "data": {
      "text/plain": [
       "False"
      ]
     },
     "execution_count": 71,
     "metadata": {},
     "output_type": "execute_result"
    }
   ],
   "source": [
    "# DISJOING SET: Checks if two sets have no elements in common\n",
    "set1.isdisjoint(set2) # Returns True if set1 and set2 have no elements in common."
   ]
  },
  {
   "cell_type": "markdown",
   "metadata": {},
   "source": [
    "### Dictionary\n",
    "- A collection of key-value pairs, \n",
    "  - e.g., {\"name\": \"Alice\", \"age\": 25}."
   ]
  },
  {
   "cell_type": "code",
   "execution_count": 72,
   "metadata": {},
   "outputs": [],
   "source": [
    "# Dictionary : require key-value pair\n",
    "dict={\"First Name\":\"Mikias\", \"Username\":\"MikiasHWT\", \"Birthplace\":\"Eritrea\", \"Favorite Food\":[\"Tsebhi\", \"Shiro\", \"Qulwa\", \"Pizza\"]}"
   ]
  },
  {
   "cell_type": "code",
   "execution_count": 73,
   "metadata": {},
   "outputs": [
    {
     "data": {
      "text/plain": [
       "{'First Name': 'Mikias',\n",
       " 'Username': 'MikiasHWT',\n",
       " 'Birthplace': 'Eritrea',\n",
       " 'Favorite Food': ['Tsebhi', 'Shiro', 'Qulwa', 'Pizza']}"
      ]
     },
     "execution_count": 73,
     "metadata": {},
     "output_type": "execute_result"
    }
   ],
   "source": [
    "dict"
   ]
  },
  {
   "cell_type": "code",
   "execution_count": 74,
   "metadata": {},
   "outputs": [
    {
     "data": {
      "text/plain": [
       "dict"
      ]
     },
     "execution_count": 74,
     "metadata": {},
     "output_type": "execute_result"
    }
   ],
   "source": [
    "type(dict)"
   ]
  },
  {
   "cell_type": "code",
   "execution_count": 75,
   "metadata": {},
   "outputs": [
    {
     "data": {
      "text/plain": [
       "dict_keys(['First Name', 'Username', 'Birthplace', 'Favorite Food'])"
      ]
     },
     "execution_count": 75,
     "metadata": {},
     "output_type": "execute_result"
    }
   ],
   "source": [
    "# Dictionary keys can be called\n",
    "dict.keys()"
   ]
  },
  {
   "cell_type": "code",
   "execution_count": 76,
   "metadata": {},
   "outputs": [
    {
     "data": {
      "text/plain": [
       "dict_values(['Mikias', 'MikiasHWT', 'Eritrea', ['Tsebhi', 'Shiro', 'Qulwa', 'Pizza']])"
      ]
     },
     "execution_count": 76,
     "metadata": {},
     "output_type": "execute_result"
    }
   ],
   "source": [
    "# Dictionary values can be called\n",
    "dict.values()"
   ]
  },
  {
   "cell_type": "code",
   "execution_count": 77,
   "metadata": {},
   "outputs": [
    {
     "data": {
      "text/plain": [
       "dict_items([('First Name', 'Mikias'), ('Username', 'MikiasHWT'), ('Birthplace', 'Eritrea'), ('Favorite Food', ['Tsebhi', 'Shiro', 'Qulwa', 'Pizza'])])"
      ]
     },
     "execution_count": 77,
     "metadata": {},
     "output_type": "execute_result"
    }
   ],
   "source": [
    "# Dictionary items (combination of key,value) can be called\n",
    "dict.items()"
   ]
  },
  {
   "cell_type": "code",
   "execution_count": 78,
   "metadata": {},
   "outputs": [
    {
     "data": {
      "text/plain": [
       "'Mikias'"
      ]
     },
     "execution_count": 78,
     "metadata": {},
     "output_type": "execute_result"
    }
   ],
   "source": [
    "# Values can be indexed by specifying key\n",
    "dict[\"First Name\"]"
   ]
  },
  {
   "cell_type": "code",
   "execution_count": 79,
   "metadata": {},
   "outputs": [],
   "source": [
    "# Specific values can be modified\n",
    "dict[\"Birthplace\"] = \"Asmara, Eritrea\""
   ]
  },
  {
   "cell_type": "code",
   "execution_count": 80,
   "metadata": {},
   "outputs": [
    {
     "data": {
      "text/plain": [
       "{'First Name': 'Mikias',\n",
       " 'Username': 'MikiasHWT',\n",
       " 'Birthplace': 'Asmara, Eritrea',\n",
       " 'Favorite Food': ['Tsebhi', 'Shiro', 'Qulwa', 'Pizza']}"
      ]
     },
     "execution_count": 80,
     "metadata": {},
     "output_type": "execute_result"
    }
   ],
   "source": [
    "dict"
   ]
  },
  {
   "cell_type": "code",
   "execution_count": 81,
   "metadata": {},
   "outputs": [],
   "source": [
    "# Dict can be further modified and appended (without deleting existing key:values)\n",
    "dict.update({'First Name': 'Mikias',\n",
    " 'Birthplace': 'Asmara, Eritrea aka: The Motherland',\n",
    " 'Favorite Food': ['Tsebhi', 'Shiro', 'Qulwa', 'Pizza'], \n",
    " \"Weight Gained\":\"Non-Negligable\"})"
   ]
  },
  {
   "cell_type": "code",
   "execution_count": 82,
   "metadata": {},
   "outputs": [
    {
     "data": {
      "text/plain": [
       "{'First Name': 'Mikias',\n",
       " 'Username': 'MikiasHWT',\n",
       " 'Birthplace': 'Asmara, Eritrea aka: The Motherland',\n",
       " 'Favorite Food': ['Tsebhi', 'Shiro', 'Qulwa', 'Pizza'],\n",
       " 'Weight Gained': 'Non-Negligable'}"
      ]
     },
     "execution_count": 82,
     "metadata": {},
     "output_type": "execute_result"
    }
   ],
   "source": [
    "dict"
   ]
  },
  {
   "cell_type": "code",
   "execution_count": 83,
   "metadata": {},
   "outputs": [],
   "source": [
    "# Key:Value pairs can also be deleted\n",
    "del dict[\"Weight Gained\"]"
   ]
  },
  {
   "cell_type": "code",
   "execution_count": 84,
   "metadata": {},
   "outputs": [
    {
     "data": {
      "text/plain": [
       "{'First Name': 'Mikias',\n",
       " 'Username': 'MikiasHWT',\n",
       " 'Birthplace': 'Asmara, Eritrea aka: The Motherland',\n",
       " 'Favorite Food': ['Tsebhi', 'Shiro', 'Qulwa', 'Pizza']}"
      ]
     },
     "execution_count": 84,
     "metadata": {},
     "output_type": "execute_result"
    }
   ],
   "source": [
    "dict"
   ]
  },
  {
   "cell_type": "markdown",
   "metadata": {},
   "source": [
    "### Stacks : TBL\n",
    "- a linear data structure that follows the LIFO (Last In, First Out) principle.\n",
    "- Elements are added and removed from the top of the stack.\n",
    "Common operations include:\n",
    "    - Push: Adding an element to the top.\n",
    "    - Pop: Removing the top element.\n",
    "    - Peek: Viewing the top element without removing it.\n",
    "- Example: Managing browser history or undo operations in text editors.\n",
    "- stacks can be implemented using lists or the collections.deque module."
   ]
  },
  {
   "cell_type": "code",
   "execution_count": null,
   "metadata": {},
   "outputs": [],
   "source": []
  },
  {
   "cell_type": "markdown",
   "metadata": {},
   "source": [
    "### Queue : TBL\n",
    "- a linear data structure that follows the FIFO (First In, First Out) principle.\n",
    "- Elements are added at the rear and removed from the front.\n",
    "Common operations include:\n",
    "    - Enqueue: Adding an element to the rear.\n",
    "    - Dequeue: Removing an element from the front.\n",
    "- Example: Handling tasks in a printer queue or CPU scheduling.\n",
    "- queues can be implemented using lists, collections.deque, or the queue module"
   ]
  },
  {
   "cell_type": "code",
   "execution_count": null,
   "metadata": {},
   "outputs": [],
   "source": []
  },
  {
   "cell_type": "markdown",
   "metadata": {},
   "source": [
    "### Graphs : TBL\n",
    "- a non-linear data structure consisting of nodes (vertices) and edges (connections between nodes).\n",
    "- Graphs can be:\n",
    "    - Directed: Edges have a direction (one-way).\n",
    "    - Undirected: Edges have no direction (two-way).\n",
    "    - Weighted: Edges have weights (costs) associated with them.\n",
    "- Graphs are used to model relationships and are widely used in networking, social media, and pathfinding algorithms (e.g., shortest path problems)\n",
    "- graphs can be implemented using dictionaries or external libraries like NetworkX."
   ]
  },
  {
   "cell_type": "code",
   "execution_count": null,
   "metadata": {},
   "outputs": [],
   "source": []
  },
  {
   "cell_type": "markdown",
   "metadata": {},
   "source": [
    "### Trees : TBL\n",
    "- a hierarchical data structure made of nodes\n",
    "    - The top node is called the root.\n",
    "    - Each node has children and one parent (except the root).\n",
    "    - Nodes with no children are called leaves.\n",
    "- Special types of trees include:\n",
    "    - Binary Trees: Each node has at most two children (left and right).\n",
    "    - Binary Search Trees (BST): A binary tree where the left child is smaller and the right child is larger than the parent.\n",
    "    - AVL Trees and Red-Black Trees: Self-balancing binary search trees.\n",
    "- Trees are used in many applications like parsing expressions, file systems, and databases.\n",
    "- trees can be implemented using classes or using libraries like anytree"
   ]
  },
  {
   "cell_type": "code",
   "execution_count": null,
   "metadata": {},
   "outputs": [],
   "source": []
  },
  {
   "cell_type": "markdown",
   "metadata": {},
   "source": [
    "### File : TBL\n",
    "- used for persistent data storage.\n",
    "- A file contains data (text or binary) and is stored on a storage device.\n",
    "- Common file operations include:\n",
    "        - Read: Extracting data from a file.\n",
    "        - Write: Writing data to a file.\n",
    "        - Append: Adding data to the end of an existing file.\n",
    "    Example: Reading or writing to a .txt, .csv, or .json file.\n",
    "- file handling is done through built-in functions like open(), and more advanced file handling is possible with libraries like pandas for structured data"
   ]
  },
  {
   "cell_type": "code",
   "execution_count": null,
   "metadata": {},
   "outputs": [],
   "source": []
  },
  {
   "cell_type": "markdown",
   "metadata": {},
   "source": [
    "# Comparisons"
   ]
  },
  {
   "cell_type": "markdown",
   "metadata": {},
   "source": [
    "## Logical Operators"
   ]
  },
  {
   "cell_type": "code",
   "execution_count": 85,
   "metadata": {},
   "outputs": [
    {
     "data": {
      "text/plain": [
       "True"
      ]
     },
     "execution_count": 85,
     "metadata": {},
     "output_type": "execute_result"
    },
    {
     "data": {
      "text/plain": [
       "False"
      ]
     },
     "execution_count": 85,
     "metadata": {},
     "output_type": "execute_result"
    },
    {
     "data": {
      "text/plain": [
       "False"
      ]
     },
     "execution_count": 85,
     "metadata": {},
     "output_type": "execute_result"
    },
    {
     "data": {
      "text/plain": [
       "True"
      ]
     },
     "execution_count": 85,
     "metadata": {},
     "output_type": "execute_result"
    }
   ],
   "source": [
    "# Equal\n",
    "2 == 2 # True\n",
    "2 == 3 # False\n",
    "\n",
    "\"Apples\" == \"Oranges\" # False\n",
    "\"Apples\" == \"Apples\" # True"
   ]
  },
  {
   "cell_type": "code",
   "execution_count": 86,
   "metadata": {},
   "outputs": [
    {
     "data": {
      "text/plain": [
       "False"
      ]
     },
     "execution_count": 86,
     "metadata": {},
     "output_type": "execute_result"
    },
    {
     "data": {
      "text/plain": [
       "True"
      ]
     },
     "execution_count": 86,
     "metadata": {},
     "output_type": "execute_result"
    },
    {
     "data": {
      "text/plain": [
       "True"
      ]
     },
     "execution_count": 86,
     "metadata": {},
     "output_type": "execute_result"
    },
    {
     "data": {
      "text/plain": [
       "False"
      ]
     },
     "execution_count": 86,
     "metadata": {},
     "output_type": "execute_result"
    }
   ],
   "source": [
    "# Double Negatives\n",
    "not(2 == 2) # False\n",
    "not(2 == 3) # True\n",
    "\n",
    "not(\"Apples\" == \"Oranges\") # True\n",
    "not(\"Apples\" == \"Apples\") # False"
   ]
  },
  {
   "cell_type": "code",
   "execution_count": 87,
   "metadata": {},
   "outputs": [
    {
     "data": {
      "text/plain": [
       "False"
      ]
     },
     "execution_count": 87,
     "metadata": {},
     "output_type": "execute_result"
    },
    {
     "data": {
      "text/plain": [
       "True"
      ]
     },
     "execution_count": 87,
     "metadata": {},
     "output_type": "execute_result"
    }
   ],
   "source": [
    "# AND logic\n",
    "(2 == 2) and (2 == 3) # False\n",
    "(\"Apples\" == \"Apples\") and (\"Oranges\" == \"Oranges\") # True"
   ]
  },
  {
   "cell_type": "code",
   "execution_count": 88,
   "metadata": {},
   "outputs": [
    {
     "data": {
      "text/plain": [
       "True"
      ]
     },
     "execution_count": 88,
     "metadata": {},
     "output_type": "execute_result"
    },
    {
     "data": {
      "text/plain": [
       "False"
      ]
     },
     "execution_count": 88,
     "metadata": {},
     "output_type": "execute_result"
    },
    {
     "data": {
      "text/plain": [
       "True"
      ]
     },
     "execution_count": 88,
     "metadata": {},
     "output_type": "execute_result"
    }
   ],
   "source": [
    "# OR logic\n",
    "(2 == 2) or (2 == 3) # True\n",
    "(2 == 4) or (2 == 3) # False\n",
    "(\"Apples\" == \"Apples\") or (\"Oranges\" == \"Oranges\") # True\n"
   ]
  },
  {
   "cell_type": "code",
   "execution_count": 89,
   "metadata": {},
   "outputs": [
    {
     "data": {
      "text/plain": [
       "False"
      ]
     },
     "execution_count": 89,
     "metadata": {},
     "output_type": "execute_result"
    },
    {
     "data": {
      "text/plain": [
       "True"
      ]
     },
     "execution_count": 89,
     "metadata": {},
     "output_type": "execute_result"
    },
    {
     "data": {
      "text/plain": [
       "True"
      ]
     },
     "execution_count": 89,
     "metadata": {},
     "output_type": "execute_result"
    },
    {
     "data": {
      "text/plain": [
       "False"
      ]
     },
     "execution_count": 89,
     "metadata": {},
     "output_type": "execute_result"
    }
   ],
   "source": [
    "# Not Equal\n",
    "2 != 2 # False\n",
    "2 != 3 # True\n",
    "\n",
    "\"Apples\" != \"Oranges\" # True\n",
    "\"Apples\" != \"Apples\" # False"
   ]
  },
  {
   "cell_type": "code",
   "execution_count": 90,
   "metadata": {},
   "outputs": [
    {
     "data": {
      "text/plain": [
       "False"
      ]
     },
     "execution_count": 90,
     "metadata": {},
     "output_type": "execute_result"
    },
    {
     "data": {
      "text/plain": [
       "True"
      ]
     },
     "execution_count": 90,
     "metadata": {},
     "output_type": "execute_result"
    },
    {
     "data": {
      "text/plain": [
       "False"
      ]
     },
     "execution_count": 90,
     "metadata": {},
     "output_type": "execute_result"
    },
    {
     "data": {
      "text/plain": [
       "True"
      ]
     },
     "execution_count": 90,
     "metadata": {},
     "output_type": "execute_result"
    },
    {
     "data": {
      "text/plain": [
       "True"
      ]
     },
     "execution_count": 90,
     "metadata": {},
     "output_type": "execute_result"
    },
    {
     "data": {
      "text/plain": [
       "False"
      ]
     },
     "execution_count": 90,
     "metadata": {},
     "output_type": "execute_result"
    }
   ],
   "source": [
    "# Greater than \n",
    "2 > 3 # False\n",
    "3 > 2 # True\n",
    "\n",
    "\"AAAA\" > \"BBB\" # False (alphabet comparison)\n",
    "len(\"AAAA\") > len(\"BBB\") # True\n",
    "\n",
    "\"C\" > \"BBB\" # True \n",
    "len(\"C\") > len(\"BBB\") # False"
   ]
  },
  {
   "cell_type": "code",
   "execution_count": 91,
   "metadata": {},
   "outputs": [
    {
     "data": {
      "text/plain": [
       "False"
      ]
     },
     "execution_count": 91,
     "metadata": {},
     "output_type": "execute_result"
    },
    {
     "data": {
      "text/plain": [
       "True"
      ]
     },
     "execution_count": 91,
     "metadata": {},
     "output_type": "execute_result"
    },
    {
     "data": {
      "text/plain": [
       "True"
      ]
     },
     "execution_count": 91,
     "metadata": {},
     "output_type": "execute_result"
    }
   ],
   "source": [
    "# Greater than or equal to\n",
    "2 >= 3 # False\n",
    "3 >= 3 # True\n",
    "4 >= 3 # True"
   ]
  },
  {
   "cell_type": "code",
   "execution_count": 92,
   "metadata": {},
   "outputs": [
    {
     "data": {
      "text/plain": [
       "True"
      ]
     },
     "execution_count": 92,
     "metadata": {},
     "output_type": "execute_result"
    },
    {
     "data": {
      "text/plain": [
       "False"
      ]
     },
     "execution_count": 92,
     "metadata": {},
     "output_type": "execute_result"
    }
   ],
   "source": [
    "# Less than \n",
    "2 < 3 # True\n",
    "3 < 2 # False"
   ]
  },
  {
   "cell_type": "code",
   "execution_count": 93,
   "metadata": {},
   "outputs": [
    {
     "data": {
      "text/plain": [
       "True"
      ]
     },
     "execution_count": 93,
     "metadata": {},
     "output_type": "execute_result"
    },
    {
     "data": {
      "text/plain": [
       "True"
      ]
     },
     "execution_count": 93,
     "metadata": {},
     "output_type": "execute_result"
    },
    {
     "data": {
      "text/plain": [
       "False"
      ]
     },
     "execution_count": 93,
     "metadata": {},
     "output_type": "execute_result"
    }
   ],
   "source": [
    "# Less than or equal to\n",
    "2 <= 3 # True\n",
    "3 <= 3 # True\n",
    "4 <= 3 # False"
   ]
  },
  {
   "cell_type": "markdown",
   "metadata": {},
   "source": [
    "## Membership Operators"
   ]
  },
  {
   "cell_type": "code",
   "execution_count": 94,
   "metadata": {},
   "outputs": [
    {
     "data": {
      "text/plain": [
       "True"
      ]
     },
     "execution_count": 94,
     "metadata": {},
     "output_type": "execute_result"
    },
    {
     "data": {
      "text/plain": [
       "True"
      ]
     },
     "execution_count": 94,
     "metadata": {},
     "output_type": "execute_result"
    },
    {
     "data": {
      "text/plain": [
       "False"
      ]
     },
     "execution_count": 94,
     "metadata": {},
     "output_type": "execute_result"
    },
    {
     "data": {
      "text/plain": [
       "False"
      ]
     },
     "execution_count": 94,
     "metadata": {},
     "output_type": "execute_result"
    },
    {
     "data": {
      "text/plain": [
       "False"
      ]
     },
     "execution_count": 94,
     "metadata": {},
     "output_type": "execute_result"
    }
   ],
   "source": [
    "# In\n",
    "Sentence=\"Apples are not the same as oranges.\"\n",
    "\n",
    "\"Apples\" in Sentence # True\n",
    "\".\" in Sentence # True\n",
    "\"apples\" in Sentence # False (Case sensitive)\n",
    "\"Pears\" in Sentence # False\n",
    "\"!\" in Sentence # False"
   ]
  },
  {
   "cell_type": "code",
   "execution_count": 95,
   "metadata": {},
   "outputs": [
    {
     "data": {
      "text/plain": [
       "True"
      ]
     },
     "execution_count": 95,
     "metadata": {},
     "output_type": "execute_result"
    },
    {
     "data": {
      "text/plain": [
       "False"
      ]
     },
     "execution_count": 95,
     "metadata": {},
     "output_type": "execute_result"
    }
   ],
   "source": [
    "Numbers=[1,3,4,7,8]\n",
    "\n",
    "1 in Numbers # True\n",
    "2 in Numbers # False"
   ]
  },
  {
   "cell_type": "code",
   "execution_count": 96,
   "metadata": {},
   "outputs": [
    {
     "data": {
      "text/plain": [
       "False"
      ]
     },
     "execution_count": 96,
     "metadata": {},
     "output_type": "execute_result"
    },
    {
     "data": {
      "text/plain": [
       "False"
      ]
     },
     "execution_count": 96,
     "metadata": {},
     "output_type": "execute_result"
    },
    {
     "data": {
      "text/plain": [
       "True"
      ]
     },
     "execution_count": 96,
     "metadata": {},
     "output_type": "execute_result"
    },
    {
     "data": {
      "text/plain": [
       "True"
      ]
     },
     "execution_count": 96,
     "metadata": {},
     "output_type": "execute_result"
    },
    {
     "data": {
      "text/plain": [
       "True"
      ]
     },
     "execution_count": 96,
     "metadata": {},
     "output_type": "execute_result"
    }
   ],
   "source": [
    "# Not In\n",
    "Sentence=\"Apples are not the same as oranges.\"\n",
    "\n",
    "\"Apples\" not in Sentence # False\n",
    "\".\" not in Sentence # True\n",
    "\"apples\" not in Sentence # True (Case sensitive)\n",
    "\"Pears\" not in Sentence # True\n",
    "\"!\" not in Sentence # False"
   ]
  },
  {
   "cell_type": "code",
   "execution_count": 97,
   "metadata": {},
   "outputs": [
    {
     "data": {
      "text/plain": [
       "False"
      ]
     },
     "execution_count": 97,
     "metadata": {},
     "output_type": "execute_result"
    },
    {
     "data": {
      "text/plain": [
       "True"
      ]
     },
     "execution_count": 97,
     "metadata": {},
     "output_type": "execute_result"
    }
   ],
   "source": [
    "Numbers=[1,3,4,7,8]\n",
    "\n",
    "1 not in Numbers # False\n",
    "2 not in Numbers # True"
   ]
  },
  {
   "cell_type": "markdown",
   "metadata": {},
   "source": [
    "# If Else\n",
    "- conditional statements used for decision-making"
   ]
  },
  {
   "cell_type": "markdown",
   "metadata": {},
   "source": [
    "![IF -> ELIF -> Else](img\\python-if-elif-else.png)"
   ]
  },
  {
   "cell_type": "code",
   "execution_count": 98,
   "metadata": {},
   "outputs": [
    {
     "name": "stdout",
     "output_type": "stream",
     "text": [
      "20 is greater than 10\n"
     ]
    }
   ],
   "source": [
    "if 20 > 10:\n",
    "    print(\"20 is greater than 10\")\n",
    "else:\n",
    "    print(\"Hmm...maybe its not\")"
   ]
  },
  {
   "cell_type": "code",
   "execution_count": 99,
   "metadata": {},
   "outputs": [
    {
     "name": "stdout",
     "output_type": "stream",
     "text": [
      "BOOM, I knew it! 20 IS bigger than 10.\n"
     ]
    }
   ],
   "source": [
    "# Checking mutliple conditions. \n",
    "if (20 < 10) or (10 > 20):\n",
    "    print(\"20 is less than 10\")\n",
    "else:\n",
    "    print(\"BOOM, I knew it! 20 IS bigger than 10.\")"
   ]
  },
  {
   "cell_type": "code",
   "execution_count": 100,
   "metadata": {},
   "outputs": [
    {
     "name": "stdout",
     "output_type": "stream",
     "text": [
      "10 is not bigger than 20\n"
     ]
    }
   ],
   "source": [
    "# Writing it in one line\n",
    "print(\"It worked\") if 10>20 else print(\"10 is not bigger than 20\")"
   ]
  },
  {
   "cell_type": "code",
   "execution_count": 101,
   "metadata": {},
   "outputs": [
    {
     "name": "stdout",
     "output_type": "stream",
     "text": [
      "20 is greater than 10\n",
      "Another victory for 20, which is greater than 9\n"
     ]
    }
   ],
   "source": [
    "# Nested statements\n",
    "if (20 > 10) and (10 < 20):\n",
    "    print(\"20 is greater than 10\")\n",
    "    if (20 > 9):\n",
    "        print(\"Another victory for 20, which is greater than 9\")\n",
    "else:\n",
    "    print(\"Hmm 20 taking some L's\")"
   ]
  },
  {
   "cell_type": "markdown",
   "metadata": {},
   "source": [
    "# For Loops\n",
    "- used to iterate over a sequence (such as a list, tuple, string, or range) and execute a block of code multiple times."
   ]
  },
  {
   "cell_type": "markdown",
   "metadata": {},
   "source": [
    "![For Loop](img\\python-for-loop.png)"
   ]
  },
  {
   "cell_type": "code",
   "execution_count": 102,
   "metadata": {},
   "outputs": [
    {
     "name": "stdout",
     "output_type": "stream",
     "text": [
      "1\n",
      "2\n",
      "3\n",
      "4\n",
      "apple\n",
      "3j\n"
     ]
    }
   ],
   "source": [
    "# Iterate over list\n",
    "a_list=[1, 2, 3, 4, \"apple\", 3j]\n",
    "\n",
    "for items in a_list:\n",
    "    print(items)"
   ]
  },
  {
   "cell_type": "code",
   "execution_count": 103,
   "metadata": {},
   "outputs": [
    {
     "name": "stdout",
     "output_type": "stream",
     "text": [
      "items\n",
      "items\n",
      "items\n",
      "items\n",
      "items\n",
      "items\n"
     ]
    }
   ],
   "source": [
    "# List items arent essential\n",
    "for items in a_list:\n",
    "    print(\"items\")"
   ]
  },
  {
   "cell_type": "code",
   "execution_count": 104,
   "metadata": {},
   "outputs": [
    {
     "name": "stdout",
     "output_type": "stream",
     "text": [
      "2\n",
      "4\n",
      "6\n",
      "8\n",
      "appleapple\n",
      "6j\n"
     ]
    }
   ],
   "source": [
    "# Their use can even get wierd\n",
    "for items in a_list:\n",
    "    print(items + items)"
   ]
  },
  {
   "cell_type": "code",
   "execution_count": 105,
   "metadata": {},
   "outputs": [
    {
     "name": "stdout",
     "output_type": "stream",
     "text": [
      "soccer\n",
      "Comedy\n",
      "['Design', 'Reading', 'Coding']\n"
     ]
    }
   ],
   "source": [
    "# Iterate over dictionary\n",
    "hobbies={\"sports\":\"soccer\", \"self-care\":\"Comedy\", \"educational\":[\"Design\", \"Reading\", \"Coding\"]}\n",
    "\n",
    "# Call values\n",
    "for things in hobbies.values():\n",
    "    print(things)"
   ]
  },
  {
   "cell_type": "code",
   "execution_count": 106,
   "metadata": {},
   "outputs": [
    {
     "name": "stdout",
     "output_type": "stream",
     "text": [
      "sports\n",
      "self-care\n",
      "educational\n"
     ]
    }
   ],
   "source": [
    "# Call keys\n",
    "for things in hobbies.keys():\n",
    "    print(things)"
   ]
  },
  {
   "cell_type": "code",
   "execution_count": 107,
   "metadata": {},
   "outputs": [
    {
     "name": "stdout",
     "output_type": "stream",
     "text": [
      "sports -> soccer\n",
      "self-care -> Comedy\n",
      "educational -> ['Design', 'Reading', 'Coding']\n"
     ]
    }
   ],
   "source": [
    "# Call Key:Value pairs (must define them)\n",
    "for category, hobby in hobbies.items():\n",
    "    print(category, \"->\", hobby)"
   ]
  },
  {
   "cell_type": "code",
   "execution_count": 108,
   "metadata": {},
   "outputs": [
    {
     "name": "stdout",
     "output_type": "stream",
     "text": [
      "soccer -%&%- sports\n",
      "Comedy -%&%- self-care\n",
      "['Design', 'Reading', 'Coding'] -%&%- educational\n"
     ]
    }
   ],
   "source": [
    "# Call Key:Value pairs (must define them, in order of Key:Value)\n",
    "for Random, aaaaaaaa in hobbies.items():\n",
    "    print(aaaaaaaa, \"-%&%-\", Random)"
   ]
  },
  {
   "cell_type": "code",
   "execution_count": 109,
   "metadata": {},
   "outputs": [
    {
     "name": "stdout",
     "output_type": "stream",
     "text": [
      "The blue shirt smells and we love it.\n",
      "The blue shirt eats and we love it.\n",
      "The blue shirt walks and we love it.\n",
      "The blue table smells and we love it.\n",
      "The blue table eats and we love it.\n",
      "The blue table walks and we love it.\n",
      "The blue pen smells and we love it.\n",
      "The blue pen eats and we love it.\n",
      "The blue pen walks and we love it.\n",
      "The small shirt smells and we love it.\n",
      "The small shirt eats and we love it.\n",
      "The small shirt walks and we love it.\n",
      "The small table smells and we love it.\n",
      "The small table eats and we love it.\n",
      "The small table walks and we love it.\n",
      "The small pen smells and we love it.\n",
      "The small pen eats and we love it.\n",
      "The small pen walks and we love it.\n",
      "The foreign shirt smells and we love it.\n",
      "The foreign shirt eats and we love it.\n",
      "The foreign shirt walks and we love it.\n",
      "The foreign table smells and we love it.\n",
      "The foreign table eats and we love it.\n",
      "The foreign table walks and we love it.\n",
      "The foreign pen smells and we love it.\n",
      "The foreign pen eats and we love it.\n",
      "The foreign pen walks and we love it.\n"
     ]
    }
   ],
   "source": [
    "# Nester for loops\n",
    "Adjective=[\"blue\", \"small\", \"foreign\"]\n",
    "Noun=[\"shirt\", \"table\", \"pen\"]\n",
    "Verb=[\"smells\", \"eats\", \"walks\"]\n",
    "\n",
    "for adjs in Adjective:\n",
    "    for nns in Noun:\n",
    "        for vrbs in Verb:\n",
    "            print(\"The\", adjs, nns, vrbs, \"and we love it.\")\n"
   ]
  },
  {
   "cell_type": "code",
   "execution_count": 110,
   "metadata": {},
   "outputs": [
    {
     "name": "stdout",
     "output_type": "stream",
     "text": [
      "The shirt smells and we are confused.\n",
      "The shirt smells and we are confused.\n",
      "The shirt smells and we are confused.\n",
      "The shirt smells and we are confused.\n",
      "The shirt smells and we are confused.\n",
      "The shirt smells and we are confused.\n",
      "The shirt smells and we are confused.\n",
      "The shirt smells and we are confused.\n",
      "The shirt smells and we are confused.\n",
      "The shirt eats and we are confused.\n",
      "The shirt eats and we are confused.\n",
      "The shirt eats and we are confused.\n",
      "The shirt eats and we are confused.\n",
      "The shirt eats and we are confused.\n",
      "The shirt eats and we are confused.\n",
      "The shirt eats and we are confused.\n",
      "The shirt eats and we are confused.\n",
      "The shirt eats and we are confused.\n",
      "The shirt walks and we are confused.\n",
      "The shirt walks and we are confused.\n",
      "The shirt walks and we are confused.\n",
      "The shirt walks and we are confused.\n",
      "The shirt walks and we are confused.\n",
      "The shirt walks and we are confused.\n",
      "The shirt walks and we are confused.\n",
      "The shirt walks and we are confused.\n",
      "The shirt walks and we are confused.\n",
      "The table smells and we are confused.\n",
      "The table smells and we are confused.\n",
      "The table smells and we are confused.\n",
      "The table smells and we are confused.\n",
      "The table smells and we are confused.\n",
      "The table smells and we are confused.\n",
      "The table smells and we are confused.\n",
      "The table smells and we are confused.\n",
      "The table smells and we are confused.\n",
      "The table eats and we are confused.\n",
      "The table eats and we are confused.\n",
      "The table eats and we are confused.\n",
      "The table eats and we are confused.\n",
      "The table eats and we are confused.\n",
      "The table eats and we are confused.\n",
      "The table eats and we are confused.\n",
      "The table eats and we are confused.\n",
      "The table eats and we are confused.\n",
      "The table walks and we are confused.\n",
      "The table walks and we are confused.\n",
      "The table walks and we are confused.\n",
      "The table walks and we are confused.\n",
      "The table walks and we are confused.\n",
      "The table walks and we are confused.\n",
      "The table walks and we are confused.\n",
      "The table walks and we are confused.\n",
      "The table walks and we are confused.\n",
      "The pen smells and we are confused.\n",
      "The pen smells and we are confused.\n",
      "The pen smells and we are confused.\n",
      "The pen smells and we are confused.\n",
      "The pen smells and we are confused.\n",
      "The pen smells and we are confused.\n",
      "The pen smells and we are confused.\n",
      "The pen smells and we are confused.\n",
      "The pen smells and we are confused.\n",
      "The pen eats and we are confused.\n",
      "The pen eats and we are confused.\n",
      "The pen eats and we are confused.\n",
      "The pen eats and we are confused.\n",
      "The pen eats and we are confused.\n",
      "The pen eats and we are confused.\n",
      "The pen eats and we are confused.\n",
      "The pen eats and we are confused.\n",
      "The pen eats and we are confused.\n",
      "The pen walks and we are confused.\n",
      "The pen walks and we are confused.\n",
      "The pen walks and we are confused.\n",
      "The pen walks and we are confused.\n",
      "The pen walks and we are confused.\n",
      "The pen walks and we are confused.\n",
      "The pen walks and we are confused.\n",
      "The pen walks and we are confused.\n",
      "The pen walks and we are confused.\n",
      "The shirt smells and we are confused.\n",
      "The shirt smells and we are confused.\n",
      "The shirt smells and we are confused.\n",
      "The shirt smells and we are confused.\n",
      "The shirt smells and we are confused.\n",
      "The shirt smells and we are confused.\n",
      "The shirt smells and we are confused.\n",
      "The shirt smells and we are confused.\n",
      "The shirt smells and we are confused.\n",
      "The shirt eats and we are confused.\n",
      "The shirt eats and we are confused.\n",
      "The shirt eats and we are confused.\n",
      "The shirt eats and we are confused.\n",
      "The shirt eats and we are confused.\n",
      "The shirt eats and we are confused.\n",
      "The shirt eats and we are confused.\n",
      "The shirt eats and we are confused.\n",
      "The shirt eats and we are confused.\n",
      "The shirt walks and we are confused.\n",
      "The shirt walks and we are confused.\n",
      "The shirt walks and we are confused.\n",
      "The shirt walks and we are confused.\n",
      "The shirt walks and we are confused.\n",
      "The shirt walks and we are confused.\n",
      "The shirt walks and we are confused.\n",
      "The shirt walks and we are confused.\n",
      "The shirt walks and we are confused.\n",
      "The table smells and we are confused.\n",
      "The table smells and we are confused.\n",
      "The table smells and we are confused.\n",
      "The table smells and we are confused.\n",
      "The table smells and we are confused.\n",
      "The table smells and we are confused.\n",
      "The table smells and we are confused.\n",
      "The table smells and we are confused.\n",
      "The table smells and we are confused.\n",
      "The table eats and we are confused.\n",
      "The table eats and we are confused.\n",
      "The table eats and we are confused.\n",
      "The table eats and we are confused.\n",
      "The table eats and we are confused.\n",
      "The table eats and we are confused.\n",
      "The table eats and we are confused.\n",
      "The table eats and we are confused.\n",
      "The table eats and we are confused.\n",
      "The table walks and we are confused.\n",
      "The table walks and we are confused.\n",
      "The table walks and we are confused.\n",
      "The table walks and we are confused.\n",
      "The table walks and we are confused.\n",
      "The table walks and we are confused.\n",
      "The table walks and we are confused.\n",
      "The table walks and we are confused.\n",
      "The table walks and we are confused.\n",
      "The pen smells and we are confused.\n",
      "The pen smells and we are confused.\n",
      "The pen smells and we are confused.\n",
      "The pen smells and we are confused.\n",
      "The pen smells and we are confused.\n",
      "The pen smells and we are confused.\n",
      "The pen smells and we are confused.\n",
      "The pen smells and we are confused.\n",
      "The pen smells and we are confused.\n",
      "The pen eats and we are confused.\n",
      "The pen eats and we are confused.\n",
      "The pen eats and we are confused.\n",
      "The pen eats and we are confused.\n",
      "The pen eats and we are confused.\n",
      "The pen eats and we are confused.\n",
      "The pen eats and we are confused.\n",
      "The pen eats and we are confused.\n",
      "The pen eats and we are confused.\n",
      "The pen walks and we are confused.\n",
      "The pen walks and we are confused.\n",
      "The pen walks and we are confused.\n",
      "The pen walks and we are confused.\n",
      "The pen walks and we are confused.\n",
      "The pen walks and we are confused.\n",
      "The pen walks and we are confused.\n",
      "The pen walks and we are confused.\n",
      "The pen walks and we are confused.\n",
      "The shirt smells and we are confused.\n",
      "The shirt smells and we are confused.\n",
      "The shirt smells and we are confused.\n",
      "The shirt smells and we are confused.\n",
      "The shirt smells and we are confused.\n",
      "The shirt smells and we are confused.\n",
      "The shirt smells and we are confused.\n",
      "The shirt smells and we are confused.\n",
      "The shirt smells and we are confused.\n",
      "The shirt eats and we are confused.\n",
      "The shirt eats and we are confused.\n",
      "The shirt eats and we are confused.\n",
      "The shirt eats and we are confused.\n",
      "The shirt eats and we are confused.\n",
      "The shirt eats and we are confused.\n",
      "The shirt eats and we are confused.\n",
      "The shirt eats and we are confused.\n",
      "The shirt eats and we are confused.\n",
      "The shirt walks and we are confused.\n",
      "The shirt walks and we are confused.\n",
      "The shirt walks and we are confused.\n",
      "The shirt walks and we are confused.\n",
      "The shirt walks and we are confused.\n",
      "The shirt walks and we are confused.\n",
      "The shirt walks and we are confused.\n",
      "The shirt walks and we are confused.\n",
      "The shirt walks and we are confused.\n",
      "The table smells and we are confused.\n",
      "The table smells and we are confused.\n",
      "The table smells and we are confused.\n",
      "The table smells and we are confused.\n",
      "The table smells and we are confused.\n",
      "The table smells and we are confused.\n",
      "The table smells and we are confused.\n",
      "The table smells and we are confused.\n",
      "The table smells and we are confused.\n",
      "The table eats and we are confused.\n",
      "The table eats and we are confused.\n",
      "The table eats and we are confused.\n",
      "The table eats and we are confused.\n",
      "The table eats and we are confused.\n",
      "The table eats and we are confused.\n",
      "The table eats and we are confused.\n",
      "The table eats and we are confused.\n",
      "The table eats and we are confused.\n",
      "The table walks and we are confused.\n",
      "The table walks and we are confused.\n",
      "The table walks and we are confused.\n",
      "The table walks and we are confused.\n",
      "The table walks and we are confused.\n",
      "The table walks and we are confused.\n",
      "The table walks and we are confused.\n",
      "The table walks and we are confused.\n",
      "The table walks and we are confused.\n",
      "The pen smells and we are confused.\n",
      "The pen smells and we are confused.\n",
      "The pen smells and we are confused.\n",
      "The pen smells and we are confused.\n",
      "The pen smells and we are confused.\n",
      "The pen smells and we are confused.\n",
      "The pen smells and we are confused.\n",
      "The pen smells and we are confused.\n",
      "The pen smells and we are confused.\n",
      "The pen eats and we are confused.\n",
      "The pen eats and we are confused.\n",
      "The pen eats and we are confused.\n",
      "The pen eats and we are confused.\n",
      "The pen eats and we are confused.\n",
      "The pen eats and we are confused.\n",
      "The pen eats and we are confused.\n",
      "The pen eats and we are confused.\n",
      "The pen eats and we are confused.\n",
      "The pen walks and we are confused.\n",
      "The pen walks and we are confused.\n",
      "The pen walks and we are confused.\n",
      "The pen walks and we are confused.\n",
      "The pen walks and we are confused.\n",
      "The pen walks and we are confused.\n",
      "The pen walks and we are confused.\n",
      "The pen walks and we are confused.\n",
      "The pen walks and we are confused.\n"
     ]
    }
   ],
   "source": [
    "# The rules...need further consideration. \n",
    "Adjective=[\"blue\", \"small\", \"foreign\"]\n",
    "Noun=[\"shirt\", \"table\", \"pen\"]\n",
    "Verb=[\"smells\", \"eats\", \"walks\"]\n",
    "\n",
    "for nns in Noun:\n",
    "    for nns in Noun:\n",
    "        for vrbs in Verb:\n",
    "            for adjs in Adjective:\n",
    "                for adjs in Adjective:\n",
    "                    print(\"The\", nns, vrbs,\"and we are confused.\")\n",
    "\n"
   ]
  },
  {
   "cell_type": "markdown",
   "metadata": {},
   "source": [
    "# While Loops\n",
    "- repeatedly executes a block of code as long as a specified condition remains True"
   ]
  },
  {
   "cell_type": "markdown",
   "metadata": {},
   "source": [
    "![While Loop](img\\python-while-loop.png)"
   ]
  },
  {
   "cell_type": "code",
   "execution_count": 111,
   "metadata": {},
   "outputs": [
    {
     "name": "stdout",
     "output_type": "stream",
     "text": [
      "1\n",
      "2\n",
      "3\n",
      "4\n",
      "5\n",
      "6\n",
      "7\n",
      "8\n",
      "9\n",
      "10\n"
     ]
    }
   ],
   "source": [
    "# Continues until the condition is not true\n",
    "num=1\n",
    "\n",
    "while num <= 10:\n",
    "    print(num)\n",
    "    num = num + 1\n",
    "    "
   ]
  },
  {
   "cell_type": "code",
   "execution_count": 112,
   "metadata": {},
   "outputs": [
    {
     "name": "stdout",
     "output_type": "stream",
     "text": [
      "1\n",
      "2\n",
      "3\n",
      "4\n",
      "5\n",
      "6\n",
      "7\n",
      "8\n",
      "9\n",
      "10\n",
      "Eleve... \n",
      "Oops, were we supposed to stop at 10?\n"
     ]
    }
   ],
   "source": [
    "# Else statement\n",
    "num=1\n",
    "\n",
    "while num <= 10:\n",
    "    print(num)\n",
    "    if num == 11:\n",
    "        break\n",
    "    num = num + 1\n",
    "else:\n",
    "    print(\"Eleve... \\nOops, were we supposed to stop at 10?\")"
   ]
  },
  {
   "cell_type": "code",
   "execution_count": 113,
   "metadata": {},
   "outputs": [],
   "source": [
    "# Continue statement (\"continue\" returns loop back to \"while\" when its condition is met. \n",
    "########### Creating an infinite loop)\n",
    "\n",
    "# num=1\n",
    "\n",
    "# while num <= 10:\n",
    "#     print(num)\n",
    "#     if num == 9:\n",
    "#         continue\n",
    "#     num = num + 1\n",
    "# else:\n",
    "#     print(\"This wont print with an infinite loop\")"
   ]
  },
  {
   "cell_type": "code",
   "execution_count": 114,
   "metadata": {},
   "outputs": [
    {
     "name": "stdout",
     "output_type": "stream",
     "text": [
      "2\n",
      "3\n",
      "4\n",
      "5\n",
      "6\n",
      "7\n",
      "8\n",
      "10\n",
      "11\n",
      "We skipped #9 but included #11. \n",
      "Because'continue' returns the loop to the 'while' conditional \n",
      "thereby subverting #9 output \n",
      "and enforcing #11 output\n"
     ]
    }
   ],
   "source": [
    "# Continue statement without infinite loop\n",
    "\n",
    "num=1\n",
    "\n",
    "while num <= 10:\n",
    "    num = num + 1\n",
    "    if num == 9:\n",
    "        continue\n",
    "    print(num)\n",
    "else:\n",
    "    print(\"We skipped #9 but included #11. \\nBecause'continue' returns the loop to the 'while' conditional \\nthereby subverting #9 output \\nand enforcing #11 output\")"
   ]
  },
  {
   "cell_type": "markdown",
   "metadata": {},
   "source": [
    "# Functions\n",
    "- a block of reusable code that performs a specific task\n",
    "-  Functions can accept inputs called arguments or parameters, which allow you to pass values into the function."
   ]
  },
  {
   "cell_type": "code",
   "execution_count": 115,
   "metadata": {},
   "outputs": [
    {
     "name": "stdout",
     "output_type": "stream",
     "text": [
      "We did it!\n"
     ]
    }
   ],
   "source": [
    "# writing a useless function\n",
    "def useless():\n",
    "    print(\"We did it!\")\n",
    "\n",
    "# calling said useless function\n",
    "useless()"
   ]
  },
  {
   "cell_type": "code",
   "execution_count": 116,
   "metadata": {},
   "outputs": [
    {
     "name": "stdout",
     "output_type": "stream",
     "text": [
      "Hello, Mikias!\n"
     ]
    }
   ],
   "source": [
    "# Function definition with name arguments\n",
    "def greet(name):\n",
    "    return f\"Hello, {name}!\"\n",
    "\n",
    "# Function call\n",
    "print(greet(\"Mikias\"))\n"
   ]
  },
  {
   "cell_type": "code",
   "execution_count": 117,
   "metadata": {},
   "outputs": [
    {
     "name": "stdout",
     "output_type": "stream",
     "text": [
      "1\n",
      "4\n",
      "9\n",
      "16\n",
      "25\n"
     ]
    }
   ],
   "source": [
    "# Squaring a number\n",
    "def num_squared(num):\n",
    "    print(num**2)\n",
    "\n",
    "# Call it\n",
    "num_squared(1)\n",
    "num_squared(2)\n",
    "num_squared(3)\n",
    "num_squared(4)\n",
    "num_squared(5)\n"
   ]
  },
  {
   "cell_type": "code",
   "execution_count": 118,
   "metadata": {},
   "outputs": [
    {
     "name": "stdout",
     "output_type": "stream",
     "text": [
      "1\n",
      "2\n",
      "4\n",
      "8\n"
     ]
    }
   ],
   "source": [
    "# Multiple arguments\n",
    "def num_raised_to(num, power):\n",
    "    print(num**power)\n",
    "\n",
    "# Call it\n",
    "num_raised_to(2,0)\n",
    "num_raised_to(2,1)\n",
    "num_raised_to(2,2)\n",
    "num_raised_to(2,3)"
   ]
  },
  {
   "cell_type": "code",
   "execution_count": 119,
   "metadata": {},
   "outputs": [
    {
     "name": "stdout",
     "output_type": "stream",
     "text": [
      "1\n",
      "2\n",
      "4\n",
      "8\n"
     ]
    }
   ],
   "source": [
    "# keyword arguments for increased flexibility in calling arguments. \n",
    "def num_raised_to(num, power):\n",
    "    print(num**power)\n",
    "\n",
    "# Call it by specifying arguments. \n",
    "num_raised_to(power=0, num=2)\n",
    "num_raised_to(num=2, power=1)\n",
    "num_raised_to(power=2, num=2)\n",
    "num_raised_to(num=2, power=3)"
   ]
  },
  {
   "cell_type": "code",
   "execution_count": 120,
   "metadata": {},
   "outputs": [
    {
     "name": "stdout",
     "output_type": "stream",
     "text": [
      "Sum of (1, 2, 3) = 6\n",
      "Sum of (5, 10, 15, 20, 25) = 75\n",
      "Sum of (100, 200) = 300\n"
     ]
    }
   ],
   "source": [
    "# Arbitrary number of arguments\n",
    "def sum_numbers(*nums):\n",
    "    total = sum(nums)  \n",
    "    print(f\"Sum of {nums} = {total}\")\n",
    "\n",
    "# Call the function with different numbers of arguments\n",
    "sum_numbers(1, 2, 3)\n",
    "sum_numbers(5, 10, 15, 20, 25)\n",
    "sum_numbers(100, 200)"
   ]
  },
  {
   "cell_type": "code",
   "execution_count": 121,
   "metadata": {},
   "outputs": [
    {
     "name": "stdout",
     "output_type": "stream",
     "text": [
      "Sum of (1, 2, 3) = 6\n",
      "Sum of (5, 10, 15) = 30\n"
     ]
    }
   ],
   "source": [
    "# To pass a list or tuple, they must be unpacked with '*'\n",
    "def sum_numbers(*nums):\n",
    "    total = sum(nums)  \n",
    "    print(f\"Sum of {nums} = {total}\")\n",
    "\n",
    "# Upack with * (or they will be treated as a single argument)\n",
    "a_tuple = (1, 2, 3)\n",
    "sum_numbers(*a_tuple)\n",
    "\n",
    "a_list = [5, 10, 15]\n",
    "sum_numbers(*a_list)"
   ]
  },
  {
   "cell_type": "code",
   "execution_count": 122,
   "metadata": {},
   "outputs": [
    {
     "name": "stdout",
     "output_type": "stream",
     "text": [
      "Name: John\n",
      "Age: 30\n",
      "City: Seattle\n",
      "\n",
      "Name: Lisa\n",
      "Age: 28\n",
      "City: LA\n"
     ]
    }
   ],
   "source": [
    "# Passing dictionaries (or DF's)\n",
    "def display_info(**kwargs):\n",
    "    print(\"Name:\", kwargs['name'])\n",
    "    print(\"Age:\", kwargs['age'])  \n",
    "    print(\"City:\", kwargs['city'])\n",
    "\n",
    "# Calling the function without the 'age' argument\n",
    "display_info(name=\"John\", age=30, city=\"Seattle\")\n",
    "print(\"\")\n",
    "display_info(name=\"Lisa\", age=28, city=\"LA\", state=\"California\") # unspecified key:value pairs will get skipped\n",
    "\n",
    "# Missing key:value pairs that are specified in function will throw an error\n",
    "# display_info(name=\"Mike\", city=\"New York\")\n",
    "\n"
   ]
  },
  {
   "cell_type": "code",
   "execution_count": 123,
   "metadata": {},
   "outputs": [
    {
     "name": "stdout",
     "output_type": "stream",
     "text": [
      "name: John\n",
      "age: 30\n",
      "profession: Engineer\n",
      "\n",
      "name: Alice\n",
      "age: 25\n",
      "location: New York\n",
      "hobby: Photography\n",
      "pet: Dog\n",
      "\n",
      "name: Mike\n",
      "city: New York\n"
     ]
    }
   ],
   "source": [
    "# Functions and for loops\n",
    "def create_profile(**info):\n",
    "    for key, value in info.items():\n",
    "        print(f\"{key}: {value}\")\n",
    "\n",
    "# Call the function with different sets of keyword arguments (no errors)\n",
    "create_profile(name=\"John\", age=30, profession=\"Engineer\")\n",
    "print()\n",
    "create_profile(name=\"Alice\", age=25, location=\"New York\", hobby=\"Photography\", pet=\"Dog\")\n",
    "print()\n",
    "create_profile(name=\"Mike\", city=\"New York\")"
   ]
  },
  {
   "cell_type": "code",
   "execution_count": 124,
   "metadata": {},
   "outputs": [
    {
     "name": "stdout",
     "output_type": "stream",
     "text": [
      "name: John\n",
      "age: 25\n",
      "city: Seattle\n",
      "profession: Engineer\n",
      "\n",
      "name: Alice\n",
      "age: 30\n",
      "city: New York\n",
      "profession: Designer\n",
      "\n",
      "name: Bob\n",
      "age: 22\n",
      "city: Los Angeles\n",
      "profession: Writer\n",
      "\n"
     ]
    }
   ],
   "source": [
    "# Passing a Dataframe into function (requires unpacking with **)\n",
    "data = {\n",
    "    'name': ['John', 'Alice', 'Bob'],\n",
    "    'age': [25, 30, 22],\n",
    "    'city': ['Seattle', 'New York', 'Los Angeles'],\n",
    "    'profession': ['Engineer', 'Designer', 'Writer']\n",
    "}\n",
    "\n",
    "df = pd.DataFrame(data)\n",
    "\n",
    "# Function to create a personal profile using **kwargs\n",
    "def create_profile(**info):\n",
    "    for key, value in info.items():\n",
    "        print(f\"{key}: {value}\")\n",
    "    print()  # blank line\n",
    "\n",
    "# Loop through the DataFrame rows and pass each row to the function (unpacking it into dictionaries per person)\n",
    "for index, row in df.iterrows():\n",
    "    create_profile(**row)"
   ]
  },
  {
   "cell_type": "markdown",
   "metadata": {},
   "source": [
    "# List Comprehension\n",
    "- a concise and efficient way to create lists. (better than for loops)"
   ]
  },
  {
   "cell_type": "markdown",
   "metadata": {},
   "source": [
    "Basic syntax\n",
    "\n",
    "```python\n",
    "[expression for item in iterable if condition]\n",
    "```\n",
    "\n",
    "- Expression: This is the value or operation that forms the elements of the new list.\n",
    "- Item: Represents each element in the iterable (like in a loop).\n",
    "- Iterable: This is the sequence or collection you're iterating over (like a list, range, etc.).\n",
    "- If condition: (Optional) This is a filtering condition that allows you to include only certain elements.\n"
   ]
  },
  {
   "cell_type": "code",
   "execution_count": 125,
   "metadata": {},
   "outputs": [
    {
     "name": "stdout",
     "output_type": "stream",
     "text": [
      "[1, 4, 9, 16, 25]\n"
     ]
    }
   ],
   "source": [
    "# Traditional For Loop\n",
    "numbers = [1, 2, 3, 4, 5]\n",
    "squares = []\n",
    "\n",
    "for num in numbers:\n",
    "    squares.append(num ** 2)\n",
    "print(squares)"
   ]
  },
  {
   "cell_type": "code",
   "execution_count": 126,
   "metadata": {},
   "outputs": [
    {
     "name": "stdout",
     "output_type": "stream",
     "text": [
      "[1, 4, 9, 16, 25]\n"
     ]
    }
   ],
   "source": [
    "# Using list comprehension\n",
    "numbers = [1, 2, 3, 4, 5]\n",
    "\n",
    "squares = [num ** 2 for num in numbers]\n",
    "\n",
    "print(squares)\n"
   ]
  },
  {
   "cell_type": "markdown",
   "metadata": {},
   "source": [
    "# Converting Data Types"
   ]
  },
  {
   "cell_type": "markdown",
   "metadata": {},
   "source": [
    "## Converting Primitives"
   ]
  },
  {
   "cell_type": "code",
   "execution_count": 127,
   "metadata": {},
   "outputs": [
    {
     "data": {
      "text/plain": [
       "int"
      ]
     },
     "execution_count": 127,
     "metadata": {},
     "output_type": "execute_result"
    },
    {
     "data": {
      "text/plain": [
       "str"
      ]
     },
     "execution_count": 127,
     "metadata": {},
     "output_type": "execute_result"
    }
   ],
   "source": [
    "# define integer\n",
    "num_int=7\n",
    "type(num_int)\n",
    "\n",
    "# define string\n",
    "num_str=\"7\"\n",
    "type(num_str)"
   ]
  },
  {
   "cell_type": "code",
   "execution_count": 128,
   "metadata": {},
   "outputs": [],
   "source": [
    "# TypeError: unsupported operand type(s) for +: 'int' and 'str'\n",
    "\n",
    "# num_int + num_str"
   ]
  },
  {
   "cell_type": "code",
   "execution_count": 129,
   "metadata": {},
   "outputs": [
    {
     "data": {
      "text/plain": [
       "int"
      ]
     },
     "execution_count": 129,
     "metadata": {},
     "output_type": "execute_result"
    },
    {
     "data": {
      "text/plain": [
       "14"
      ]
     },
     "execution_count": 129,
     "metadata": {},
     "output_type": "execute_result"
    }
   ],
   "source": [
    "# Converting from string to integer \n",
    "convert_num=int(num_str)\n",
    "type(convert_num)\n",
    "\n",
    "convert_num + num_int"
   ]
  },
  {
   "cell_type": "code",
   "execution_count": 130,
   "metadata": {},
   "outputs": [
    {
     "data": {
      "text/plain": [
       "str"
      ]
     },
     "execution_count": 130,
     "metadata": {},
     "output_type": "execute_result"
    },
    {
     "data": {
      "text/plain": [
       "'77'"
      ]
     },
     "execution_count": 130,
     "metadata": {},
     "output_type": "execute_result"
    }
   ],
   "source": [
    "# Converting from integer to string\n",
    "convert_str=str(num_int)\n",
    "type(convert_str)\n",
    "\n",
    "convert_str + num_str"
   ]
  },
  {
   "cell_type": "markdown",
   "metadata": {},
   "source": [
    "## Converting Non-Primitives"
   ]
  },
  {
   "cell_type": "code",
   "execution_count": 131,
   "metadata": {},
   "outputs": [
    {
     "data": {
      "text/plain": [
       "list"
      ]
     },
     "execution_count": 131,
     "metadata": {},
     "output_type": "execute_result"
    },
    {
     "data": {
      "text/plain": [
       "tuple"
      ]
     },
     "execution_count": 131,
     "metadata": {},
     "output_type": "execute_result"
    }
   ],
   "source": [
    "# define list\n",
    "a_list=[1,2,3]\n",
    "type(a_list)\n",
    "\n",
    "# define tuple\n",
    "a_tuple=(1,2,3)\n",
    "type(a_tuple)"
   ]
  },
  {
   "cell_type": "code",
   "execution_count": 132,
   "metadata": {},
   "outputs": [
    {
     "data": {
      "text/plain": [
       "tuple"
      ]
     },
     "execution_count": 132,
     "metadata": {},
     "output_type": "execute_result"
    }
   ],
   "source": [
    "# Converting list -> tuple\n",
    "convert_tuple=tuple(a_list)\n",
    "type(convert_tuple)"
   ]
  },
  {
   "cell_type": "code",
   "execution_count": 133,
   "metadata": {},
   "outputs": [
    {
     "data": {
      "text/plain": [
       "list"
      ]
     },
     "execution_count": 133,
     "metadata": {},
     "output_type": "execute_result"
    }
   ],
   "source": [
    "# Converting tuple -> list\n",
    "convert_list=list(a_tuple)\n",
    "type(convert_list)"
   ]
  },
  {
   "cell_type": "code",
   "execution_count": 134,
   "metadata": {},
   "outputs": [
    {
     "data": {
      "text/plain": [
       "set"
      ]
     },
     "execution_count": 134,
     "metadata": {},
     "output_type": "execute_result"
    },
    {
     "data": {
      "text/plain": [
       "{1, 2, 3}"
      ]
     },
     "execution_count": 134,
     "metadata": {},
     "output_type": "execute_result"
    }
   ],
   "source": [
    "# Convert list -> set\n",
    "another_list=[1,2,2,2,3,3]\n",
    "convert_set=set(another_list)\n",
    "type(convert_set)\n",
    "\n",
    "# But sets only retain unique values\n",
    "convert_set"
   ]
  },
  {
   "cell_type": "code",
   "execution_count": 135,
   "metadata": {},
   "outputs": [
    {
     "data": {
      "text/plain": [
       "dict"
      ]
     },
     "execution_count": 135,
     "metadata": {},
     "output_type": "execute_result"
    },
    {
     "data": {
      "text/plain": [
       "dict_keys(['name', 'username', 'Age'])"
      ]
     },
     "execution_count": 135,
     "metadata": {},
     "output_type": "execute_result"
    },
    {
     "data": {
      "text/plain": [
       "dict_values(['Mikias', 'MikiasHWT', '31'])"
      ]
     },
     "execution_count": 135,
     "metadata": {},
     "output_type": "execute_result"
    },
    {
     "data": {
      "text/plain": [
       "dict_items([('name', 'Mikias'), ('username', 'MikiasHWT'), ('Age', '31')])"
      ]
     },
     "execution_count": 135,
     "metadata": {},
     "output_type": "execute_result"
    }
   ],
   "source": [
    "# Converting dictionary\n",
    "dict_type={\"name\":\"Mikias\", \"username\":\"MikiasHWT\", \"Age\":\"31\"}\n",
    "type(dict_type)\n",
    "\n",
    "dict_type.keys()\n",
    "dict_type.values()\n",
    "dict_type.items()"
   ]
  },
  {
   "cell_type": "code",
   "execution_count": 136,
   "metadata": {},
   "outputs": [
    {
     "name": "stdout",
     "output_type": "stream",
     "text": [
      "___________________keys -> lists______________________\n"
     ]
    },
    {
     "data": {
      "text/plain": [
       "list"
      ]
     },
     "execution_count": 136,
     "metadata": {},
     "output_type": "execute_result"
    },
    {
     "data": {
      "text/plain": [
       "['name', 'username', 'Age']"
      ]
     },
     "execution_count": 136,
     "metadata": {},
     "output_type": "execute_result"
    },
    {
     "data": {
      "text/plain": [
       "'name'"
      ]
     },
     "execution_count": 136,
     "metadata": {},
     "output_type": "execute_result"
    },
    {
     "data": {
      "text/plain": [
       "'username'"
      ]
     },
     "execution_count": 136,
     "metadata": {},
     "output_type": "execute_result"
    },
    {
     "data": {
      "text/plain": [
       "'Age'"
      ]
     },
     "execution_count": 136,
     "metadata": {},
     "output_type": "execute_result"
    },
    {
     "name": "stdout",
     "output_type": "stream",
     "text": [
      "__________________values -> lists_____________________\n"
     ]
    },
    {
     "data": {
      "text/plain": [
       "list"
      ]
     },
     "execution_count": 136,
     "metadata": {},
     "output_type": "execute_result"
    },
    {
     "data": {
      "text/plain": [
       "['Mikias', 'MikiasHWT', '31']"
      ]
     },
     "execution_count": 136,
     "metadata": {},
     "output_type": "execute_result"
    },
    {
     "data": {
      "text/plain": [
       "'Mikias'"
      ]
     },
     "execution_count": 136,
     "metadata": {},
     "output_type": "execute_result"
    },
    {
     "data": {
      "text/plain": [
       "'MikiasHWT'"
      ]
     },
     "execution_count": 136,
     "metadata": {},
     "output_type": "execute_result"
    },
    {
     "data": {
      "text/plain": [
       "'31'"
      ]
     },
     "execution_count": 136,
     "metadata": {},
     "output_type": "execute_result"
    },
    {
     "name": "stdout",
     "output_type": "stream",
     "text": [
      "__________________items -> lists______________________\n"
     ]
    },
    {
     "data": {
      "text/plain": [
       "list"
      ]
     },
     "execution_count": 136,
     "metadata": {},
     "output_type": "execute_result"
    },
    {
     "data": {
      "text/plain": [
       "[('name', 'Mikias'), ('username', 'MikiasHWT'), ('Age', '31')]"
      ]
     },
     "execution_count": 136,
     "metadata": {},
     "output_type": "execute_result"
    },
    {
     "data": {
      "text/plain": [
       "('name', 'Mikias')"
      ]
     },
     "execution_count": 136,
     "metadata": {},
     "output_type": "execute_result"
    },
    {
     "data": {
      "text/plain": [
       "('username', 'MikiasHWT')"
      ]
     },
     "execution_count": 136,
     "metadata": {},
     "output_type": "execute_result"
    },
    {
     "data": {
      "text/plain": [
       "('Age', '31')"
      ]
     },
     "execution_count": 136,
     "metadata": {},
     "output_type": "execute_result"
    }
   ],
   "source": [
    "# Converting portions of dictionary to lists\n",
    "print(\"___________________keys -> lists______________________\")\n",
    "convert_keys=list(dict_type.keys())\n",
    "type(convert_keys)\n",
    "convert_keys\n",
    "convert_keys[0]\n",
    "convert_keys[1]\n",
    "convert_keys[2]\n",
    "\n",
    "print(\"__________________values -> lists_____________________\")\n",
    "\n",
    "convert_vals=list(dict_type.values())\n",
    "type(convert_vals)\n",
    "convert_vals\n",
    "convert_vals[0]\n",
    "convert_vals[1]\n",
    "convert_vals[2]\n",
    "\n",
    "print(\"__________________items -> lists______________________\")\n",
    "\n",
    "convert_items=list(dict_type.items())\n",
    "type(convert_items)\n",
    "convert_items\n",
    "convert_items[0]\n",
    "convert_items[1]\n",
    "convert_items[2]"
   ]
  },
  {
   "cell_type": "code",
   "execution_count": 137,
   "metadata": {},
   "outputs": [
    {
     "data": {
      "text/plain": [
       "list"
      ]
     },
     "execution_count": 137,
     "metadata": {},
     "output_type": "execute_result"
    },
    {
     "data": {
      "text/plain": [
       "['M',\n",
       " 'y',\n",
       " ' ',\n",
       " 'n',\n",
       " 'a',\n",
       " 'm',\n",
       " 'e',\n",
       " ' ',\n",
       " 'i',\n",
       " 's',\n",
       " ' ',\n",
       " 'M',\n",
       " 'i',\n",
       " 'k',\n",
       " 'i',\n",
       " 'a',\n",
       " 's']"
      ]
     },
     "execution_count": 137,
     "metadata": {},
     "output_type": "execute_result"
    }
   ],
   "source": [
    "# Long strong -> lists (essentially parsing a sentence)\n",
    "sentence=\"My name is Mikias and I am currently 31 years old\"\n",
    "sentence_list=list(sentence)\n",
    "type(sentence_list)\n",
    "sentence_list[:17]"
   ]
  },
  {
   "cell_type": "markdown",
   "metadata": {},
   "source": [
    "# Pandas"
   ]
  },
  {
   "cell_type": "code",
   "execution_count": 12,
   "metadata": {},
   "outputs": [
    {
     "name": "stdout",
     "output_type": "stream",
     "text": [
      "DataFrame:\n",
      "      Name  Age  Score\n",
      "A    Alice   25     85\n",
      "B      Bob   30     90\n",
      "C  Charlie   35     95\n",
      "D    David   40    100\n"
     ]
    }
   ],
   "source": [
    "# Create a sample DataFrame\n",
    "data = {'Name': ['Alice', 'Bob', 'Charlie', 'David'],\n",
    "        'Age': [25, 30, 35, 40],\n",
    "        'Score': [85, 90, 95, 100]}\n",
    "\n",
    "df = pd.DataFrame(data, index=['A', 'B', 'C', 'D'])\n",
    "\n",
    "print(\"DataFrame:\")\n",
    "print(df)"
   ]
  },
  {
   "cell_type": "markdown",
   "metadata": {},
   "source": [
    "## Index Based Selection\n",
    "\n",
    "iloc : Selecting data based on its numerical position in the data."
   ]
  },
  {
   "cell_type": "code",
   "execution_count": 5,
   "metadata": {},
   "outputs": [
    {
     "data": {
      "text/plain": [
       "Name     Bob\n",
       "Age       30\n",
       "Score     90\n",
       "Name: B, dtype: object"
      ]
     },
     "execution_count": 5,
     "metadata": {},
     "output_type": "execute_result"
    }
   ],
   "source": [
    "# Access 2nd elements of all columns\n",
    "df.iloc[1]"
   ]
  },
  {
   "cell_type": "code",
   "execution_count": 6,
   "metadata": {},
   "outputs": [
    {
     "data": {
      "text/plain": [
       "np.int64(90)"
      ]
     },
     "execution_count": 6,
     "metadata": {},
     "output_type": "execute_result"
    }
   ],
   "source": [
    "# Access specific value using row at index 1 and column at index \n",
    "df.iloc[1, 2]"
   ]
  },
  {
   "cell_type": "code",
   "execution_count": 9,
   "metadata": {},
   "outputs": [
    {
     "data": {
      "text/plain": [
       "A      Alice\n",
       "B        Bob\n",
       "C    Charlie\n",
       "D      David\n",
       "Name: Name, dtype: object"
      ]
     },
     "execution_count": 9,
     "metadata": {},
     "output_type": "execute_result"
    }
   ],
   "source": [
    "# to retrive a column\n",
    "df.iloc[:, 0]"
   ]
  },
  {
   "cell_type": "markdown",
   "metadata": {},
   "source": [
    "## Label-based selection\n",
    "\n",
    "loc : selects from the data index value, not its position. "
   ]
  },
  {
   "cell_type": "code",
   "execution_count": 11,
   "metadata": {},
   "outputs": [
    {
     "data": {
      "text/plain": [
       "A    25\n",
       "B    30\n",
       "C    35\n",
       "D    40\n",
       "Name: Age, dtype: int64"
      ]
     },
     "execution_count": 11,
     "metadata": {},
     "output_type": "execute_result"
    }
   ],
   "source": [
    "df.loc[:, 'Age']"
   ]
  },
  {
   "cell_type": "markdown",
   "metadata": {},
   "source": [
    "## Manipulating DF's"
   ]
  },
  {
   "cell_type": "code",
   "execution_count": 18,
   "metadata": {},
   "outputs": [
    {
     "name": "stdout",
     "output_type": "stream",
     "text": [
      "New DataFrame:\n",
      "         Age  Score\n",
      "Name               \n",
      "Alice     25     85\n",
      "Bob       30     90\n",
      "Charlie   35     95\n",
      "David     40    100\n"
     ]
    }
   ],
   "source": [
    "# Setting index\n",
    "df_new = df.set_index(\"Name\")\n",
    "\n",
    "print(\"New DataFrame:\")\n",
    "print(df_new)"
   ]
  },
  {
   "cell_type": "code",
   "execution_count": 21,
   "metadata": {},
   "outputs": [
    {
     "data": {
      "text/plain": [
       "A    False\n",
       "B     True\n",
       "C    False\n",
       "D    False\n",
       "Name: Age, dtype: bool"
      ]
     },
     "execution_count": 21,
     "metadata": {},
     "output_type": "execute_result"
    }
   ],
   "source": [
    "# Conditional selection\n",
    "df.Age == 30"
   ]
  },
  {
   "cell_type": "code",
   "execution_count": 22,
   "metadata": {},
   "outputs": [
    {
     "data": {
      "text/html": [
       "<div>\n",
       "<style scoped>\n",
       "    .dataframe tbody tr th:only-of-type {\n",
       "        vertical-align: middle;\n",
       "    }\n",
       "\n",
       "    .dataframe tbody tr th {\n",
       "        vertical-align: top;\n",
       "    }\n",
       "\n",
       "    .dataframe thead th {\n",
       "        text-align: right;\n",
       "    }\n",
       "</style>\n",
       "<table border=\"1\" class=\"dataframe\">\n",
       "  <thead>\n",
       "    <tr style=\"text-align: right;\">\n",
       "      <th></th>\n",
       "      <th>Name</th>\n",
       "      <th>Age</th>\n",
       "      <th>Score</th>\n",
       "    </tr>\n",
       "  </thead>\n",
       "  <tbody>\n",
       "    <tr>\n",
       "      <th>B</th>\n",
       "      <td>Bob</td>\n",
       "      <td>30</td>\n",
       "      <td>90</td>\n",
       "    </tr>\n",
       "  </tbody>\n",
       "</table>\n",
       "</div>"
      ],
      "text/plain": [
       "  Name  Age  Score\n",
       "B  Bob   30     90"
      ]
     },
     "execution_count": 22,
     "metadata": {},
     "output_type": "execute_result"
    }
   ],
   "source": [
    "# Conditional subsetting\n",
    "df.loc[df.Age == 30]"
   ]
  },
  {
   "cell_type": "code",
   "execution_count": 23,
   "metadata": {},
   "outputs": [
    {
     "data": {
      "text/html": [
       "<div>\n",
       "<style scoped>\n",
       "    .dataframe tbody tr th:only-of-type {\n",
       "        vertical-align: middle;\n",
       "    }\n",
       "\n",
       "    .dataframe tbody tr th {\n",
       "        vertical-align: top;\n",
       "    }\n",
       "\n",
       "    .dataframe thead th {\n",
       "        text-align: right;\n",
       "    }\n",
       "</style>\n",
       "<table border=\"1\" class=\"dataframe\">\n",
       "  <thead>\n",
       "    <tr style=\"text-align: right;\">\n",
       "      <th></th>\n",
       "      <th>Name</th>\n",
       "      <th>Age</th>\n",
       "      <th>Score</th>\n",
       "    </tr>\n",
       "  </thead>\n",
       "  <tbody>\n",
       "    <tr>\n",
       "      <th>D</th>\n",
       "      <td>David</td>\n",
       "      <td>40</td>\n",
       "      <td>100</td>\n",
       "    </tr>\n",
       "  </tbody>\n",
       "</table>\n",
       "</div>"
      ],
      "text/plain": [
       "    Name  Age  Score\n",
       "D  David   40    100"
      ]
     },
     "execution_count": 23,
     "metadata": {},
     "output_type": "execute_result"
    }
   ],
   "source": [
    "# Conditional subsetting with logical operators \n",
    "# and = &\n",
    "# or = |\n",
    "# is in = isin()\n",
    "df.loc[(df.Age >= 35) & (df.Score >= 100)]"
   ]
  },
  {
   "cell_type": "code",
   "execution_count": 25,
   "metadata": {},
   "outputs": [
    {
     "data": {
      "text/html": [
       "<div>\n",
       "<style scoped>\n",
       "    .dataframe tbody tr th:only-of-type {\n",
       "        vertical-align: middle;\n",
       "    }\n",
       "\n",
       "    .dataframe tbody tr th {\n",
       "        vertical-align: top;\n",
       "    }\n",
       "\n",
       "    .dataframe thead th {\n",
       "        text-align: right;\n",
       "    }\n",
       "</style>\n",
       "<table border=\"1\" class=\"dataframe\">\n",
       "  <thead>\n",
       "    <tr style=\"text-align: right;\">\n",
       "      <th></th>\n",
       "      <th>Name</th>\n",
       "      <th>Age</th>\n",
       "      <th>Score</th>\n",
       "      <th>Tried Hard</th>\n",
       "    </tr>\n",
       "  </thead>\n",
       "  <tbody>\n",
       "    <tr>\n",
       "      <th>A</th>\n",
       "      <td>Alice</td>\n",
       "      <td>25</td>\n",
       "      <td>85</td>\n",
       "      <td>Yes</td>\n",
       "    </tr>\n",
       "    <tr>\n",
       "      <th>B</th>\n",
       "      <td>Bob</td>\n",
       "      <td>30</td>\n",
       "      <td>90</td>\n",
       "      <td>Yes</td>\n",
       "    </tr>\n",
       "    <tr>\n",
       "      <th>C</th>\n",
       "      <td>Charlie</td>\n",
       "      <td>35</td>\n",
       "      <td>95</td>\n",
       "      <td>Yes</td>\n",
       "    </tr>\n",
       "    <tr>\n",
       "      <th>D</th>\n",
       "      <td>David</td>\n",
       "      <td>40</td>\n",
       "      <td>100</td>\n",
       "      <td>Yes</td>\n",
       "    </tr>\n",
       "  </tbody>\n",
       "</table>\n",
       "</div>"
      ],
      "text/plain": [
       "      Name  Age  Score Tried Hard\n",
       "A    Alice   25     85        Yes\n",
       "B      Bob   30     90        Yes\n",
       "C  Charlie   35     95        Yes\n",
       "D    David   40    100        Yes"
      ]
     },
     "execution_count": 25,
     "metadata": {},
     "output_type": "execute_result"
    }
   ],
   "source": [
    "# Assigning data\n",
    "df[\"Tried Hard\"] = \"Yes\"\n",
    "\n",
    "df"
   ]
  },
  {
   "cell_type": "markdown",
   "metadata": {},
   "source": [
    "## Summaries and maps"
   ]
  },
  {
   "cell_type": "code",
   "execution_count": 28,
   "metadata": {},
   "outputs": [
    {
     "data": {
      "text/html": [
       "<div>\n",
       "<style scoped>\n",
       "    .dataframe tbody tr th:only-of-type {\n",
       "        vertical-align: middle;\n",
       "    }\n",
       "\n",
       "    .dataframe tbody tr th {\n",
       "        vertical-align: top;\n",
       "    }\n",
       "\n",
       "    .dataframe thead th {\n",
       "        text-align: right;\n",
       "    }\n",
       "</style>\n",
       "<table border=\"1\" class=\"dataframe\">\n",
       "  <thead>\n",
       "    <tr style=\"text-align: right;\">\n",
       "      <th></th>\n",
       "      <th>Name</th>\n",
       "      <th>Age</th>\n",
       "      <th>Score</th>\n",
       "      <th>Tried Hard</th>\n",
       "    </tr>\n",
       "  </thead>\n",
       "  <tbody>\n",
       "    <tr>\n",
       "      <th>A</th>\n",
       "      <td>Alice</td>\n",
       "      <td>25</td>\n",
       "      <td>85</td>\n",
       "      <td>Yes</td>\n",
       "    </tr>\n",
       "    <tr>\n",
       "      <th>B</th>\n",
       "      <td>Bob</td>\n",
       "      <td>30</td>\n",
       "      <td>90</td>\n",
       "      <td>Yes</td>\n",
       "    </tr>\n",
       "    <tr>\n",
       "      <th>C</th>\n",
       "      <td>Charlie</td>\n",
       "      <td>35</td>\n",
       "      <td>95</td>\n",
       "      <td>Yes</td>\n",
       "    </tr>\n",
       "    <tr>\n",
       "      <th>D</th>\n",
       "      <td>David</td>\n",
       "      <td>40</td>\n",
       "      <td>100</td>\n",
       "      <td>Yes</td>\n",
       "    </tr>\n",
       "  </tbody>\n",
       "</table>\n",
       "</div>"
      ],
      "text/plain": [
       "      Name  Age  Score Tried Hard\n",
       "A    Alice   25     85        Yes\n",
       "B      Bob   30     90        Yes\n",
       "C  Charlie   35     95        Yes\n",
       "D    David   40    100        Yes"
      ]
     },
     "execution_count": 28,
     "metadata": {},
     "output_type": "execute_result"
    }
   ],
   "source": [
    "df"
   ]
  },
  {
   "cell_type": "markdown",
   "metadata": {},
   "source": [
    "### Summaries"
   ]
  },
  {
   "cell_type": "code",
   "execution_count": 27,
   "metadata": {},
   "outputs": [
    {
     "data": {
      "text/html": [
       "<div>\n",
       "<style scoped>\n",
       "    .dataframe tbody tr th:only-of-type {\n",
       "        vertical-align: middle;\n",
       "    }\n",
       "\n",
       "    .dataframe tbody tr th {\n",
       "        vertical-align: top;\n",
       "    }\n",
       "\n",
       "    .dataframe thead th {\n",
       "        text-align: right;\n",
       "    }\n",
       "</style>\n",
       "<table border=\"1\" class=\"dataframe\">\n",
       "  <thead>\n",
       "    <tr style=\"text-align: right;\">\n",
       "      <th></th>\n",
       "      <th>Age</th>\n",
       "      <th>Score</th>\n",
       "    </tr>\n",
       "  </thead>\n",
       "  <tbody>\n",
       "    <tr>\n",
       "      <th>count</th>\n",
       "      <td>4.000000</td>\n",
       "      <td>4.000000</td>\n",
       "    </tr>\n",
       "    <tr>\n",
       "      <th>mean</th>\n",
       "      <td>32.500000</td>\n",
       "      <td>92.500000</td>\n",
       "    </tr>\n",
       "    <tr>\n",
       "      <th>std</th>\n",
       "      <td>6.454972</td>\n",
       "      <td>6.454972</td>\n",
       "    </tr>\n",
       "    <tr>\n",
       "      <th>min</th>\n",
       "      <td>25.000000</td>\n",
       "      <td>85.000000</td>\n",
       "    </tr>\n",
       "    <tr>\n",
       "      <th>25%</th>\n",
       "      <td>28.750000</td>\n",
       "      <td>88.750000</td>\n",
       "    </tr>\n",
       "    <tr>\n",
       "      <th>50%</th>\n",
       "      <td>32.500000</td>\n",
       "      <td>92.500000</td>\n",
       "    </tr>\n",
       "    <tr>\n",
       "      <th>75%</th>\n",
       "      <td>36.250000</td>\n",
       "      <td>96.250000</td>\n",
       "    </tr>\n",
       "    <tr>\n",
       "      <th>max</th>\n",
       "      <td>40.000000</td>\n",
       "      <td>100.000000</td>\n",
       "    </tr>\n",
       "  </tbody>\n",
       "</table>\n",
       "</div>"
      ],
      "text/plain": [
       "             Age       Score\n",
       "count   4.000000    4.000000\n",
       "mean   32.500000   92.500000\n",
       "std     6.454972    6.454972\n",
       "min    25.000000   85.000000\n",
       "25%    28.750000   88.750000\n",
       "50%    32.500000   92.500000\n",
       "75%    36.250000   96.250000\n",
       "max    40.000000  100.000000"
      ]
     },
     "execution_count": 27,
     "metadata": {},
     "output_type": "execute_result"
    }
   ],
   "source": [
    "# Common stats for numerical variables\n",
    "df.describe()"
   ]
  },
  {
   "cell_type": "code",
   "execution_count": 30,
   "metadata": {},
   "outputs": [
    {
     "data": {
      "text/plain": [
       "count       4\n",
       "unique      1\n",
       "top       Yes\n",
       "freq        4\n",
       "Name: Tried Hard, dtype: object"
      ]
     },
     "execution_count": 30,
     "metadata": {},
     "output_type": "execute_result"
    }
   ],
   "source": [
    "# Descibe for categoricals\n",
    "df[\"Tried Hard\"].describe()"
   ]
  },
  {
   "cell_type": "code",
   "execution_count": 31,
   "metadata": {},
   "outputs": [
    {
     "data": {
      "text/plain": [
       "np.float64(92.5)"
      ]
     },
     "execution_count": 31,
     "metadata": {},
     "output_type": "execute_result"
    }
   ],
   "source": [
    "# mean\n",
    "df.Score.mean()"
   ]
  },
  {
   "cell_type": "code",
   "execution_count": 32,
   "metadata": {},
   "outputs": [
    {
     "data": {
      "text/plain": [
       "array([ 85,  90,  95, 100])"
      ]
     },
     "execution_count": 32,
     "metadata": {},
     "output_type": "execute_result"
    }
   ],
   "source": [
    "# Unique values\n",
    "df.Score.unique()"
   ]
  },
  {
   "cell_type": "code",
   "execution_count": 33,
   "metadata": {},
   "outputs": [
    {
     "data": {
      "text/plain": [
       "Score\n",
       "85     1\n",
       "90     1\n",
       "95     1\n",
       "100    1\n",
       "Name: count, dtype: int64"
      ]
     },
     "execution_count": 33,
     "metadata": {},
     "output_type": "execute_result"
    }
   ],
   "source": [
    "# Count number of instances of a given value\n",
    "df.Score.value_counts()"
   ]
  },
  {
   "cell_type": "markdown",
   "metadata": {},
   "source": [
    "### Maps\n",
    "\n",
    "a function that takes one set of values and \"maps\" them to another set of values."
   ]
  },
  {
   "cell_type": "code",
   "execution_count": 40,
   "metadata": {},
   "outputs": [
    {
     "data": {
      "text/html": [
       "<div>\n",
       "<style scoped>\n",
       "    .dataframe tbody tr th:only-of-type {\n",
       "        vertical-align: middle;\n",
       "    }\n",
       "\n",
       "    .dataframe tbody tr th {\n",
       "        vertical-align: top;\n",
       "    }\n",
       "\n",
       "    .dataframe thead th {\n",
       "        text-align: right;\n",
       "    }\n",
       "</style>\n",
       "<table border=\"1\" class=\"dataframe\">\n",
       "  <thead>\n",
       "    <tr style=\"text-align: right;\">\n",
       "      <th></th>\n",
       "      <th>Name</th>\n",
       "      <th>Age</th>\n",
       "      <th>Score</th>\n",
       "      <th>Tried Hard</th>\n",
       "      <th>Centered_scores</th>\n",
       "    </tr>\n",
       "  </thead>\n",
       "  <tbody>\n",
       "    <tr>\n",
       "      <th>A</th>\n",
       "      <td>Alice</td>\n",
       "      <td>25</td>\n",
       "      <td>85</td>\n",
       "      <td>Yes</td>\n",
       "      <td>-7.5</td>\n",
       "    </tr>\n",
       "    <tr>\n",
       "      <th>B</th>\n",
       "      <td>Bob</td>\n",
       "      <td>30</td>\n",
       "      <td>90</td>\n",
       "      <td>Yes</td>\n",
       "      <td>-2.5</td>\n",
       "    </tr>\n",
       "    <tr>\n",
       "      <th>C</th>\n",
       "      <td>Charlie</td>\n",
       "      <td>35</td>\n",
       "      <td>95</td>\n",
       "      <td>Yes</td>\n",
       "      <td>2.5</td>\n",
       "    </tr>\n",
       "    <tr>\n",
       "      <th>D</th>\n",
       "      <td>David</td>\n",
       "      <td>40</td>\n",
       "      <td>100</td>\n",
       "      <td>Yes</td>\n",
       "      <td>7.5</td>\n",
       "    </tr>\n",
       "  </tbody>\n",
       "</table>\n",
       "</div>"
      ],
      "text/plain": [
       "      Name  Age  Score Tried Hard  Centered_scores\n",
       "A    Alice   25     85        Yes             -7.5\n",
       "B      Bob   30     90        Yes             -2.5\n",
       "C  Charlie   35     95        Yes              2.5\n",
       "D    David   40    100        Yes              7.5"
      ]
     },
     "execution_count": 40,
     "metadata": {},
     "output_type": "execute_result"
    }
   ],
   "source": [
    "# Mean centering using map()\n",
    "# Store mean value\n",
    "Score_mean_value = df.Score.mean()\n",
    "\n",
    "# Apply lambda function to shift the mean\n",
    "# takes each individual n value in score columns and subtracts the mean\n",
    "df[\"Centered_scores\"] = df.Score.map(lambda n: n - Score_mean_value)\n",
    "\n",
    "df\n"
   ]
  },
  {
   "cell_type": "code",
   "execution_count": null,
   "metadata": {},
   "outputs": [],
   "source": []
  },
  {
   "cell_type": "code",
   "execution_count": null,
   "metadata": {},
   "outputs": [],
   "source": []
  },
  {
   "cell_type": "markdown",
   "metadata": {},
   "source": [
    "# End"
   ]
  },
  {
   "cell_type": "code",
   "execution_count": 138,
   "metadata": {},
   "outputs": [],
   "source": [
    "# Replace spaces in notebook title with underscores\n",
    "filename = Notebook_title.replace(\" \", \"_\") + \"_requirements.txt\"\n",
    "\n",
    "# Run the pip freeze command and save the output txt file\n",
    "!pip freeze > $filename"
   ]
  },
  {
   "cell_type": "code",
   "execution_count": 139,
   "metadata": {},
   "outputs": [
    {
     "data": {
      "text/html": [
       "<details>\n",
       "<summary>Click to view session information</summary>\n",
       "<pre>\n",
       "-----\n",
       "numpy               2.1.1\n",
       "pandas              2.2.3\n",
       "session_info        1.0.0\n",
       "-----\n",
       "</pre>\n",
       "<details>\n",
       "<summary>Click to view modules imported as dependencies</summary>\n",
       "<pre>\n",
       "asttokens           NA\n",
       "colorama            0.4.6\n",
       "comm                0.2.2\n",
       "cython_runtime      NA\n",
       "dateutil            2.9.0.post0\n",
       "debugpy             1.8.6\n",
       "decorator           5.1.1\n",
       "executing           2.1.0\n",
       "ipykernel           6.29.5\n",
       "jedi                0.19.1\n",
       "packaging           24.1\n",
       "parso               0.8.4\n",
       "platformdirs        4.3.6\n",
       "prompt_toolkit      3.0.48\n",
       "psutil              6.0.0\n",
       "pure_eval           0.2.3\n",
       "pydev_ipython       NA\n",
       "pydevconsole        NA\n",
       "pydevd              3.1.0\n",
       "pydevd_file_utils   NA\n",
       "pydevd_plugins      NA\n",
       "pydevd_tracing      NA\n",
       "pygments            2.18.0\n",
       "pytz                2024.2\n",
       "pywin32_bootstrap   NA\n",
       "pywin32_system32    NA\n",
       "six                 1.16.0\n",
       "stack_data          0.6.3\n",
       "tornado             6.4.1\n",
       "traitlets           5.14.3\n",
       "vscode              NA\n",
       "wcwidth             0.2.13\n",
       "zmq                 26.2.0\n",
       "</pre>\n",
       "</details> <!-- seems like this ends pre, so might as well be explicit -->\n",
       "<pre>\n",
       "-----\n",
       "IPython             8.28.0\n",
       "jupyter_client      8.6.3\n",
       "jupyter_core        5.7.2\n",
       "-----\n",
       "Python 3.12.7 (tags/v3.12.7:0b05ead, Oct  1 2024, 03:06:41) [MSC v.1941 64 bit (AMD64)]\n",
       "Windows-10-10.0.19045-SP0\n",
       "-----\n",
       "Session information updated at 2024-10-03 15:36\n",
       "</pre>\n",
       "</details>"
      ],
      "text/plain": [
       "<IPython.core.display.HTML object>"
      ]
     },
     "execution_count": 139,
     "metadata": {},
     "output_type": "execute_result"
    }
   ],
   "source": [
    "import session_info\n",
    "session_info.show()"
   ]
  }
 ],
 "metadata": {
  "kernelspec": {
   "display_name": ".venv",
   "language": "python",
   "name": "python3"
  },
  "language_info": {
   "codemirror_mode": {
    "name": "ipython",
    "version": 3
   },
   "file_extension": ".py",
   "mimetype": "text/x-python",
   "name": "python",
   "nbconvert_exporter": "python",
   "pygments_lexer": "ipython3",
   "version": "3.12.7"
  }
 },
 "nbformat": 4,
 "nbformat_minor": 2
}
