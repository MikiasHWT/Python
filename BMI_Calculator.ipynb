{
 "cells": [
  {
   "cell_type": "code",
   "execution_count": 213,
   "metadata": {},
   "outputs": [
    {
     "data": {
      "text/html": [
       "\n",
       "<h1 style=\"text-align:center;\">BMI Calculator</h1>\n",
       "<br/>\n",
       "<h3 style=\"text-align:left;\">MikiasHWT</h3>\n",
       "<h3 style=\"text-align:left;\">October 03, 2024</h3>\n"
      ],
      "text/plain": [
       "<IPython.core.display.HTML object>"
      ]
     },
     "metadata": {},
     "output_type": "display_data"
    }
   ],
   "source": [
    "from IPython.display import display, HTML\n",
    "from datetime import datetime\n",
    "\n",
    "# Define the notebook title\n",
    "Notebook_title = \"BMI Calculator\"\n",
    "\n",
    "# Get the current date\n",
    "current_date = datetime.now().strftime(\"%B %d, %Y\")\n",
    "\n",
    "# Create the HTML string with title, date, and author\n",
    "html_content = f\"\"\"\n",
    "<h1 style=\"text-align:center;\">{Notebook_title}</h1>\n",
    "<br/>\n",
    "<h3 style=\"text-align:left;\">MikiasHWT</h3>\n",
    "<h3 style=\"text-align:left;\">{current_date}</h3>\n",
    "\"\"\"\n",
    "\n",
    "# Display the HTML content in the output\n",
    "display(HTML(html_content))\n"
   ]
  },
  {
   "cell_type": "markdown",
   "metadata": {},
   "source": [
    "# Prep Workplace"
   ]
  },
  {
   "cell_type": "markdown",
   "metadata": {},
   "source": [
    "## Imports"
   ]
  },
  {
   "cell_type": "code",
   "execution_count": 214,
   "metadata": {},
   "outputs": [],
   "source": [
    "import numpy as np\n",
    "import pandas as pd\n",
    "\n",
    "# To show multiple lines in output\n",
    "from IPython.core.interactiveshell import InteractiveShell\n",
    "InteractiveShell.ast_node_interactivity = \"all\""
   ]
  },
  {
   "cell_type": "markdown",
   "metadata": {},
   "source": [
    "## Directories"
   ]
  },
  {
   "cell_type": "code",
   "execution_count": 215,
   "metadata": {},
   "outputs": [],
   "source": [
    "# Data Directory\n",
    "datDir = \"\"\n",
    "\n",
    "# Output Directory\n",
    "outDir = \"\""
   ]
  },
  {
   "cell_type": "markdown",
   "metadata": {},
   "source": [
    "# Background"
   ]
  },
  {
   "cell_type": "markdown",
   "metadata": {},
   "source": [
    "## Motivation\n",
    "Practice basics of Python coding by developing a simple BMI calculator.\n",
    "\n",
    "ie: Replicate BMI calculator from [Calculator.net](https://www.calculator.net/bmi-calculator.html)"
   ]
  },
  {
   "cell_type": "markdown",
   "metadata": {},
   "source": [
    "# Data Portion"
   ]
  },
  {
   "cell_type": "code",
   "execution_count": 216,
   "metadata": {},
   "outputs": [
    {
     "name": "stdout",
     "output_type": "stream",
     "text": [
      "Select your preferred measurement metric:\n",
      "1. Imperial (in & lb)\n",
      "2. Metric (cm & kg)\n",
      "\n",
      "You input a height of 70 inches \n",
      "and a weight of 195 lbs\n",
      "\n",
      "Therefor your BMI is: 27.98\n",
      "\n",
      "Your BMI classification is \u001b[1mOverweight\u001b[0m, \n",
      "according to the World Health Organization\n"
     ]
    }
   ],
   "source": [
    "# Define measurement dictionary\n",
    "measurements = {\"Imperial\":[[\"in\", \"inch\", \"inches\"],\n",
    "                            [\"ft\", \"foot\", \"feet\"],\n",
    "                            [\"lb\", \"lbs\", \"pound\", \"pounds\"]], \n",
    "               \"Metric\":[[\"cm\", \"centimeter\", \"centimeters\"],\n",
    "                         [\"m\", \"meter\", \"meters\"],\n",
    "                         [\"kg\", \"kgs\", \"kilogram\", \"kilograms\"]]}\n",
    "\n",
    "# Convert dictionary items to list\n",
    "measurements_list = list(measurements.items())\n",
    "\n",
    "# Prompt weight metric selection\n",
    "print(\"Select your preferred measurement metric:\")\n",
    "\n",
    "# List choices\n",
    "for i, (metric, units) in enumerate(measurements_list, start=1): \n",
    "    length_unit = units[0][0]  # 'in' for Imperial, 'cm' for Metric\n",
    "    weight_unit = units[2][0]  # 'lb' for Imperial, 'kg' for Metric\n",
    "    print(f\"{i}. {metric} ({length_unit} & {weight_unit})\")\n",
    "\n",
    "# Define function to validate user input\n",
    "def user_input(prompt, options): \n",
    "    while True:\n",
    "        try:\n",
    "            choice = int(input(prompt).strip())\n",
    "            if 1 <= choice <= len(options): \n",
    "                return options[choice - 1]  # adjust for zero indexing\n",
    "            else:\n",
    "                print(\"Invalid choice, please select 1 or 2.\")\n",
    "        except ValueError:\n",
    "            print(\"Invalid choice, please enter a valid number.\")\n",
    "\n",
    "# Classify adults BMI (20+)\n",
    "def classify_adult_bmi(bmi):\n",
    "    if bmi < 16:\n",
    "        return \"Severe Thinness\"\n",
    "    elif 16 <= bmi < 17:\n",
    "        return \"Moderate Thinness\"\n",
    "    elif 17 <= bmi < 18.5:\n",
    "        return \"Mild Thinness\"\n",
    "    elif 18.5 <= bmi < 25:\n",
    "        return \"Normal\"\n",
    "    elif 25 <= bmi < 30:\n",
    "        return \"Overweight\"\n",
    "    elif 30 <= bmi < 35:\n",
    "        return \"Obese Class I\"\n",
    "    elif 35 <= bmi < 40:\n",
    "        return \"Obese Class II\"\n",
    "    else:\n",
    "        return \"Obese Class III\"\n",
    "\n",
    "# Classify children/teens BMI (2-20) \n",
    "def classify_child_bmi_percentile(bmi):\n",
    "    if bmi < 5:\n",
    "        return \"Underweight\"\n",
    "    elif 5 <= bmi < 85:\n",
    "        return \"Healthy weight\"\n",
    "    elif 85 <= bmi < 95:\n",
    "        return \"At risk of overweight\"\n",
    "    else:\n",
    "        return \"Overweight\"\n",
    "\n",
    "# Call function & determine metric of choice\n",
    "chosen_metric = user_input(\"Enter 1 or 2: \", measurements_list)\n",
    "\n",
    "print()  # Space\n",
    "\n",
    "# Define function to validate age input\n",
    "def age_input():\n",
    "    while True:\n",
    "        try:\n",
    "            stated_age = int(input(\"Enter your age: \").strip())\n",
    "            return stated_age  \n",
    "        except ValueError:\n",
    "            print(\"Invalid input. Please enter a whole number (integer).\")\n",
    "\n",
    "# Call the function to get the age\n",
    "stated_age = age_input()\n",
    "\n",
    "# Check if age is below 2, and display a message\n",
    "if stated_age <= 2:\n",
    "    print(\"In the case of weight concerns regarding children 2 or younger,\\nPlease consult a doctor.\")\n",
    "else:\n",
    "    # Get user input for height\n",
    "    stated_height = int(input(f\"Enter height in {chosen_metric[1][0][2]}:\").strip())  # inches/centimeters\n",
    "\n",
    "    # Get user input for weight\n",
    "    stated_weight = int(input(f\"Enter weight in {chosen_metric[1][2][3]}:\").strip())  # pounds/kilograms\n",
    "\n",
    "    # Confirm inputs\n",
    "    print(f\"You input a height of {stated_height} {chosen_metric[1][0][2]} \\nand a weight of {stated_weight} {chosen_metric[1][2][1]}\")  # inches/centimeters & lbs/kgs\n",
    "\n",
    "    # Determine BMI based on the selected metric system\n",
    "    if chosen_metric[0] == \"Imperial\":\n",
    "        BMI = 703 * (stated_weight / stated_height**2)  # USC Formula for BMI\n",
    "    else:\n",
    "        height_in_meters = stated_height / 100  # Convert cm to meters\n",
    "        BMI = stated_weight / height_in_meters**2  # SI Formula for BMI\n",
    "\n",
    "    # Print the calculated BMI\n",
    "    print()\n",
    "    print(f\"Therefor your BMI is: {BMI:.2f}\\n\")\n",
    "\n",
    "    # Classify based on age\n",
    "    if stated_age >= 20:\n",
    "        # Call adult BMI classifier\n",
    "        classification = classify_adult_bmi(BMI)\n",
    "        print(f\"Your BMI classification is \\033[1m{classification}\\033[0m, \\naccording to the World Health Organization\")\n",
    "    elif 2 <= stated_age < 20:\n",
    "        # Call children BMI classifier\n",
    "        classification = classify_child_bmi_percentile(BMI)\n",
    "        print(f\"As a child/teen, your BMI classification is: \\033[1m{classification}\\033[0m\")\n"
   ]
  },
  {
   "cell_type": "markdown",
   "metadata": {},
   "source": [
    "# Formulas"
   ]
  },
  {
   "cell_type": "markdown",
   "metadata": {},
   "source": [
    "<center>United States Customary System (USC)</center>\n",
    "\n",
    "$$\n",
    "BMI^{(USC)} = 703*\\frac{mass(lbs)}{height^2(in)}\n",
    "$$"
   ]
  },
  {
   "cell_type": "markdown",
   "metadata": {},
   "source": [
    "<center>International System of Units (SI)</center>\n",
    "\n",
    "$$\n",
    "BMI^{(SI)} = \\frac{mass(kg)}{height^2(m)}\n",
    "$$"
   ]
  },
  {
   "cell_type": "markdown",
   "metadata": {},
   "source": [
    "<center>1 inch = 0.0254 meters</center>\n",
    "\n",
    "$$\n",
    "1 \\, \\text{inch} = \\frac{127}{5000} \\, \\text{meters}\n",
    "$$"
   ]
  },
  {
   "cell_type": "markdown",
   "metadata": {},
   "source": [
    "<center>1 meter = 39.370079 inches</center>\n",
    "\n",
    "$$\n",
    "1 \\, \\text{meter} = \\frac{3937}{100} \\, \\text{inches}\n",
    "$$"
   ]
  },
  {
   "cell_type": "markdown",
   "metadata": {},
   "source": [
    "<center>1 centimeter = 0.39370079 inches</center>\n",
    "\n",
    "$$\n",
    "1 \\, \\text{cm} = \\frac{1}{2.54} \\, \\text{inches}\n",
    "$$"
   ]
  },
  {
   "cell_type": "markdown",
   "metadata": {},
   "source": [
    "<center>1 inch = 2.54 centimeters</center>\n",
    "\n",
    "$$\n",
    "1 \\, \\text{inch} = 2.54 \\, \\text{cm}\n",
    "$$"
   ]
  },
  {
   "cell_type": "markdown",
   "metadata": {},
   "source": [
    "<center>1 lb = 0.453592 kg</center>\n",
    "\n",
    "$$\n",
    "1 \\, \\text{pound} = \\frac{1134}{2500} \\, \\text{kilograms}\n",
    "$$"
   ]
  },
  {
   "cell_type": "markdown",
   "metadata": {},
   "source": [
    "<center>1 kg = 2.205 lb</center>\n",
    "\n",
    "$$\n",
    "1 \\, \\text{kilogram} = \\frac{441}{200} \\, \\text{pounds}\n",
    "$$"
   ]
  },
  {
   "cell_type": "markdown",
   "metadata": {},
   "source": [
    "# Health Ranges"
   ]
  },
  {
   "cell_type": "markdown",
   "metadata": {},
   "source": [
    "Classification Adults (age 20 or older)\n",
    "\n",
    "- BMI range: - kg/m2\n",
    "    - Severe Thinness\t< 16\n",
    "    - Moderate Thinness\t16 - 17\n",
    "    - Mild Thinness\t17 - 18.5\n",
    "    - Normal\t18.5 - 25\n",
    "    - Overweight\t25 - 30\n",
    "    - Obese Class I\t30 - 35\n",
    "    - Obese Class II\t35 - 40\n",
    "    - Obese Class III\t> 40"
   ]
  },
  {
   "cell_type": "markdown",
   "metadata": {},
   "source": [
    "Classification children and teens (age 2-20)\n",
    "\n",
    "- BMI range: - kg/m2\n",
    "  - Underweight\t<5%\n",
    "  - Healthy weight\t5% - 85%\n",
    "  - At risk of overweight\t85% - 95%\n",
    "  - Overweight\t>95%"
   ]
  },
  {
   "cell_type": "markdown",
   "metadata": {},
   "source": [
    "# Future modifications\n",
    "- Allow user input for feet and inches \n",
    "- Allow user input for meters\n",
    "- Include sex input for refined outputs\n",
    "- Include neck and waist measurements for Body Fat measurements (alongside BMI?)\n",
    "  - Include additional health metrics and outputs\n",
    "    - Request weekly activity\n",
    "    - Request health goals\n",
    "    - Output Macro Nutrient recomendations\n"
   ]
  },
  {
   "cell_type": "markdown",
   "metadata": {},
   "source": [
    "# End"
   ]
  },
  {
   "cell_type": "markdown",
   "metadata": {},
   "source": [
    "## Show Session Information"
   ]
  },
  {
   "cell_type": "code",
   "execution_count": 217,
   "metadata": {},
   "outputs": [
    {
     "data": {
      "text/html": [
       "<details>\n",
       "<summary>Click to view session information</summary>\n",
       "<pre>\n",
       "-----\n",
       "numpy               2.1.1\n",
       "pandas              2.2.3\n",
       "session_info        1.0.0\n",
       "-----\n",
       "</pre>\n",
       "<details>\n",
       "<summary>Click to view modules imported as dependencies</summary>\n",
       "<pre>\n",
       "asttokens           NA\n",
       "colorama            0.4.6\n",
       "comm                0.2.2\n",
       "cython_runtime      NA\n",
       "dateutil            2.9.0.post0\n",
       "debugpy             1.8.6\n",
       "decorator           5.1.1\n",
       "executing           2.1.0\n",
       "ipykernel           6.29.5\n",
       "jedi                0.19.1\n",
       "packaging           24.1\n",
       "parso               0.8.4\n",
       "platformdirs        4.3.6\n",
       "prompt_toolkit      3.0.48\n",
       "psutil              6.0.0\n",
       "pure_eval           0.2.3\n",
       "pydev_ipython       NA\n",
       "pydevconsole        NA\n",
       "pydevd              3.1.0\n",
       "pydevd_file_utils   NA\n",
       "pydevd_plugins      NA\n",
       "pydevd_tracing      NA\n",
       "pygments            2.18.0\n",
       "pytz                2024.2\n",
       "pywin32_bootstrap   NA\n",
       "pywin32_system32    NA\n",
       "six                 1.16.0\n",
       "stack_data          0.6.3\n",
       "tornado             6.4.1\n",
       "traitlets           5.14.3\n",
       "vscode              NA\n",
       "wcwidth             0.2.13\n",
       "zmq                 26.2.0\n",
       "</pre>\n",
       "</details> <!-- seems like this ends pre, so might as well be explicit -->\n",
       "<pre>\n",
       "-----\n",
       "IPython             8.28.0\n",
       "jupyter_client      8.6.3\n",
       "jupyter_core        5.7.2\n",
       "-----\n",
       "Python 3.12.7 (tags/v3.12.7:0b05ead, Oct  1 2024, 03:06:41) [MSC v.1941 64 bit (AMD64)]\n",
       "Windows-10-10.0.19045-SP0\n",
       "-----\n",
       "Session information updated at 2024-10-03 22:08\n",
       "</pre>\n",
       "</details>"
      ],
      "text/plain": [
       "<IPython.core.display.HTML object>"
      ]
     },
     "execution_count": 217,
     "metadata": {},
     "output_type": "execute_result"
    }
   ],
   "source": [
    "import session_info\n",
    "session_info.show()"
   ]
  },
  {
   "cell_type": "markdown",
   "metadata": {},
   "source": [
    "## Save Session Requirements"
   ]
  },
  {
   "cell_type": "code",
   "execution_count": 218,
   "metadata": {},
   "outputs": [],
   "source": [
    "# Replace spaces in notebook title with underscores\n",
    "filename = Notebook_title.replace(\" \", \"_\") + \"_requirements.txt\"\n",
    "\n",
    "# Run the pip freeze command and save the output txt file\n",
    "!pip freeze > $filename"
   ]
  }
 ],
 "metadata": {
  "kernelspec": {
   "display_name": ".venv",
   "language": "python",
   "name": "python3"
  },
  "language_info": {
   "codemirror_mode": {
    "name": "ipython",
    "version": 3
   },
   "file_extension": ".py",
   "mimetype": "text/x-python",
   "name": "python",
   "nbconvert_exporter": "python",
   "pygments_lexer": "ipython3",
   "version": "3.12.7"
  }
 },
 "nbformat": 4,
 "nbformat_minor": 2
}
