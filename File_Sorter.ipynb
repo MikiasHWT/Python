{
 "cells": [
  {
   "cell_type": "code",
   "execution_count": 139,
   "metadata": {},
   "outputs": [
    {
     "data": {
      "text/html": [
       "\n",
       "<h1 style=\"text-align:center;\">File Sorter</h1>\n",
       "<br/>\n",
       "<h3 style=\"text-align:left;\">MikiasHWT</h3>\n",
       "<h3 style=\"text-align:left;\">October 04, 2024</h3>\n"
      ],
      "text/plain": [
       "<IPython.core.display.HTML object>"
      ]
     },
     "metadata": {},
     "output_type": "display_data"
    }
   ],
   "source": [
    "from IPython.display import display, HTML\n",
    "from datetime import datetime\n",
    "\n",
    "# Define the notebook title\n",
    "Notebook_title = \"File Sorter\"\n",
    "\n",
    "# Get the current date\n",
    "current_date = datetime.now().strftime(\"%B %d, %Y\")\n",
    "\n",
    "# Create the HTML string with title, date, and author\n",
    "html_content = f\"\"\"\n",
    "<h1 style=\"text-align:center;\">{Notebook_title}</h1>\n",
    "<br/>\n",
    "<h3 style=\"text-align:left;\">MikiasHWT</h3>\n",
    "<h3 style=\"text-align:left;\">{current_date}</h3>\n",
    "\"\"\"\n",
    "\n",
    "# Display the HTML content in the output\n",
    "display(HTML(html_content))\n"
   ]
  },
  {
   "cell_type": "markdown",
   "metadata": {},
   "source": [
    "# Prep Workplace"
   ]
  },
  {
   "cell_type": "markdown",
   "metadata": {},
   "source": [
    "## Imports"
   ]
  },
  {
   "cell_type": "code",
   "execution_count": 140,
   "metadata": {},
   "outputs": [],
   "source": [
    "import numpy as np\n",
    "import pandas as pd\n",
    "import os \n",
    "import shutil\n",
    "import re\n",
    "\n",
    "# To show multiple lines in output\n",
    "from IPython.core.interactiveshell import InteractiveShell\n",
    "InteractiveShell.ast_node_interactivity = \"all\""
   ]
  },
  {
   "cell_type": "markdown",
   "metadata": {},
   "source": [
    "# Background"
   ]
  },
  {
   "cell_type": "markdown",
   "metadata": {},
   "source": [
    "## Motivation\n",
    "- Create a file sorter script\n",
    "- Compare its functionality to similar tools that i will develop in bash and/or powershell. "
   ]
  },
  {
   "cell_type": "code",
   "execution_count": 141,
   "metadata": {},
   "outputs": [
    {
     "data": {
      "text/plain": [
       "'path/to/dir\\\\text_files\\\\test_3.docx'"
      ]
     },
     "execution_count": 141,
     "metadata": {},
     "output_type": "execute_result"
    },
    {
     "name": "stdout",
     "output_type": "stream",
     "text": [
      "test.docx moved to text_files as test_3.docx\n"
     ]
    },
    {
     "data": {
      "text/plain": [
       "'path/to/dir\\\\text_files\\\\test_3.txt'"
      ]
     },
     "execution_count": 141,
     "metadata": {},
     "output_type": "execute_result"
    },
    {
     "name": "stdout",
     "output_type": "stream",
     "text": [
      "test.txt moved to text_files as test_3.txt\n"
     ]
    },
    {
     "data": {
      "text/plain": [
       "'path/to/dir\\\\csv_files\\\\tests.csv'"
      ]
     },
     "execution_count": 141,
     "metadata": {},
     "output_type": "execute_result"
    },
    {
     "name": "stdout",
     "output_type": "stream",
     "text": [
      "tests.csv moved to csv_files\n"
     ]
    },
    {
     "data": {
      "text/plain": [
       "'path/to/dir\\\\image_files\\\\tests.jpg'"
      ]
     },
     "execution_count": 141,
     "metadata": {},
     "output_type": "execute_result"
    },
    {
     "name": "stdout",
     "output_type": "stream",
     "text": [
      "tests.jpg moved to image_files\n"
     ]
    },
    {
     "data": {
      "text/plain": [
       "'path/to/dir\\\\image_files\\\\tests.png'"
      ]
     },
     "execution_count": 141,
     "metadata": {},
     "output_type": "execute_result"
    },
    {
     "name": "stdout",
     "output_type": "stream",
     "text": [
      "tests.png moved to image_files\n",
      "\n",
      "Files remaining in path/to/dir:\n",
      "- csv_files\n",
      "- image_files\n",
      "- text_files\n",
      "- Zebra.not\n"
     ]
    }
   ],
   "source": [
    "# Folder containing filetype folders (or where filetype folder will be created)\n",
    "dst_dir = \"path/to/dir\" # change \\ to / for windows\n",
    "\n",
    "########### The messy folder ###########\n",
    "src_dir = \"path/to/dir\"         ###########\n",
    "########################################\n",
    "\n",
    "# File extensions and filetype folders of interest\n",
    "ext_folders = {\n",
    "    \".csv\": \"csv_files\",\n",
    "    \".txt\": \"text_files\",\n",
    "    \".docx\": \"text_files\",\n",
    "    \".png\": \"image_files\",\n",
    "    \".jpg\": \"image_files\"\n",
    "}\n",
    "\n",
    "# List files in the source directory \n",
    "files = os.listdir(src_dir)\n",
    "\n",
    "# Create filetype folders (if they dont exist)\n",
    "for folder in set(ext_folders.values()):\n",
    "    os.makedirs(os.path.join(dst_dir, folder), exist_ok=True)\n",
    "\n",
    "# Renaming function for duplicate files in destinations\n",
    "def rename_if_exists(dest, filename):\n",
    "    base, ext = os.path.splitext(filename)\n",
    "    counter = 1\n",
    "    match = re.match(r\"(.*)_(\\d+)$\", base)\n",
    "    if match:\n",
    "        base = match.group(1)\n",
    "        counter = int(match.group(2)) + 1\n",
    "    new_name = f\"{base}_{counter}{ext}\"\n",
    "    new_dest = os.path.join(os.path.dirname(dest), new_name)\n",
    "    while os.path.exists(new_dest):\n",
    "        counter += 1\n",
    "        new_name = f\"{base}_{counter}{ext}\"\n",
    "        new_dest = os.path.join(os.path.dirname(dest), new_name)\n",
    "    return new_dest, new_name\n",
    "\n",
    "# Track moved files\n",
    "moved = {folder: False for folder in set(ext_folders.values())}\n",
    "\n",
    "# Move files to destination folders\n",
    "for file in files:\n",
    "    src_path = os.path.join(src_dir, file)\n",
    "    moved_flag = False\n",
    "    for ext, folder in ext_folders.items():\n",
    "        if file.lower().endswith(ext.lower()):\n",
    "            dst_path = os.path.join(dst_dir, folder, file)\n",
    "            if os.path.exists(dst_path):\n",
    "                new_dst, new_name = rename_if_exists(dst_path, file) \n",
    "                shutil.move(src_path, new_dst) # Move renamed files\n",
    "                print(f\"{file} moved to {folder} as {new_name}\")\n",
    "            else:               \n",
    "                shutil.move(src_path, dst_path) # Move unmodified files\n",
    "                print(f\"{file} moved to {folder}\")\n",
    "            moved[folder] = True\n",
    "            moved_flag = True\n",
    "            break\n",
    "\n",
    "# Output print statement if no files were moved to a filetype folder\n",
    "for folder, moved_files in moved.items():\n",
    "    if not moved_files:\n",
    "        print(f\"No files moved to: {folder}\")\n",
    "\n",
    "# Remaining files \n",
    "remaining_files = os.listdir(src_dir)\n",
    "print(f\"\\nFiles remaining in {src_dir}:\")\n",
    "\n",
    "for file in remaining_files:\n",
    "    print(f\"- {file}\")\n"
   ]
  },
  {
   "cell_type": "markdown",
   "metadata": {},
   "source": [
    "# End"
   ]
  },
  {
   "cell_type": "markdown",
   "metadata": {},
   "source": [
    "## Show Session Information"
   ]
  },
  {
   "cell_type": "code",
   "execution_count": 142,
   "metadata": {},
   "outputs": [
    {
     "data": {
      "text/html": [
       "<details>\n",
       "<summary>Click to view session information</summary>\n",
       "<pre>\n",
       "-----\n",
       "numpy               2.1.1\n",
       "pandas              2.2.3\n",
       "session_info        1.0.0\n",
       "-----\n",
       "</pre>\n",
       "<details>\n",
       "<summary>Click to view modules imported as dependencies</summary>\n",
       "<pre>\n",
       "asttokens           NA\n",
       "colorama            0.4.6\n",
       "comm                0.2.2\n",
       "cython_runtime      NA\n",
       "dateutil            2.9.0.post0\n",
       "debugpy             1.8.6\n",
       "decorator           5.1.1\n",
       "executing           2.1.0\n",
       "ipykernel           6.29.5\n",
       "jedi                0.19.1\n",
       "packaging           24.1\n",
       "parso               0.8.4\n",
       "platformdirs        4.3.6\n",
       "prompt_toolkit      3.0.48\n",
       "psutil              6.0.0\n",
       "pure_eval           0.2.3\n",
       "pydev_ipython       NA\n",
       "pydevconsole        NA\n",
       "pydevd              3.1.0\n",
       "pydevd_file_utils   NA\n",
       "pydevd_plugins      NA\n",
       "pydevd_tracing      NA\n",
       "pygments            2.18.0\n",
       "pytz                2024.2\n",
       "pywin32_bootstrap   NA\n",
       "pywin32_system32    NA\n",
       "six                 1.16.0\n",
       "stack_data          0.6.3\n",
       "tornado             6.4.1\n",
       "traitlets           5.14.3\n",
       "vscode              NA\n",
       "wcwidth             0.2.13\n",
       "zmq                 26.2.0\n",
       "</pre>\n",
       "</details> <!-- seems like this ends pre, so might as well be explicit -->\n",
       "<pre>\n",
       "-----\n",
       "IPython             8.28.0\n",
       "jupyter_client      8.6.3\n",
       "jupyter_core        5.7.2\n",
       "-----\n",
       "Python 3.12.7 (tags/v3.12.7:0b05ead, Oct  1 2024, 03:06:41) [MSC v.1941 64 bit (AMD64)]\n",
       "Windows-10-10.0.19045-SP0\n",
       "-----\n",
       "Session information updated at 2024-10-04 16:55\n",
       "</pre>\n",
       "</details>"
      ],
      "text/plain": [
       "<IPython.core.display.HTML object>"
      ]
     },
     "execution_count": 142,
     "metadata": {},
     "output_type": "execute_result"
    }
   ],
   "source": [
    "import session_info\n",
    "session_info.show()"
   ]
  },
  {
   "cell_type": "markdown",
   "metadata": {},
   "source": [
    "## Save Session Requirements"
   ]
  },
  {
   "cell_type": "code",
   "execution_count": 143,
   "metadata": {},
   "outputs": [],
   "source": [
    "# Replace spaces in notebook title with underscores\n",
    "filename = Notebook_title.replace(\" \", \"_\") + \"_requirements.txt\"\n",
    "\n",
    "# Run the pip freeze command and save the output txt file\n",
    "!pip freeze > $filename"
   ]
  }
 ],
 "metadata": {
  "kernelspec": {
   "display_name": ".venv",
   "language": "python",
   "name": "python3"
  },
  "language_info": {
   "codemirror_mode": {
    "name": "ipython",
    "version": 3
   },
   "file_extension": ".py",
   "mimetype": "text/x-python",
   "name": "python",
   "nbconvert_exporter": "python",
   "pygments_lexer": "ipython3",
   "version": "3.12.7"
  }
 },
 "nbformat": 4,
 "nbformat_minor": 2
}
