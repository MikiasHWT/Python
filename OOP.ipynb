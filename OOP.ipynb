{
 "cells": [
  {
   "cell_type": "code",
   "execution_count": 1,
   "metadata": {},
   "outputs": [
    {
     "data": {
      "text/html": [
       "\n",
       "<h1 style=\"text-align:center;\">Object Oriented Programming</h1>\n",
       "<br/>\n",
       "<h3 style=\"text-align:left;\">MikiasHWT</h3>\n",
       "<h3 style=\"text-align:left;\">October 26, 2024</h3>\n"
      ],
      "text/plain": [
       "<IPython.core.display.HTML object>"
      ]
     },
     "metadata": {},
     "output_type": "display_data"
    }
   ],
   "source": [
    "from IPython.display import display, HTML\n",
    "from datetime import datetime\n",
    "\n",
    "# Define the notebook title\n",
    "Notebook_title = \"Object Oriented Programming\"\n",
    "\n",
    "# Get the current date\n",
    "current_date = datetime.now().strftime(\"%B %d, %Y\")\n",
    "\n",
    "# Create the HTML string with title, date, and author\n",
    "html_content = f\"\"\"\n",
    "<h1 style=\"text-align:center;\">{Notebook_title}</h1>\n",
    "<br/>\n",
    "<h3 style=\"text-align:left;\">MikiasHWT</h3>\n",
    "<h3 style=\"text-align:left;\">{current_date}</h3>\n",
    "\"\"\"\n",
    "\n",
    "# Display the HTML content in the output\n",
    "display(HTML(html_content))\n"
   ]
  },
  {
   "cell_type": "markdown",
   "metadata": {},
   "source": [
    "# Prep Workplace"
   ]
  },
  {
   "cell_type": "markdown",
   "metadata": {},
   "source": [
    "## Imports"
   ]
  },
  {
   "cell_type": "code",
   "execution_count": 7,
   "metadata": {},
   "outputs": [],
   "source": [
    "import numpy as np\n",
    "import pandas as pd\n",
    "import os \n",
    "\n",
    "# To show multiple lines in output\n",
    "from IPython.core.interactiveshell import InteractiveShell\n",
    "InteractiveShell.ast_node_interactivity = \"all\""
   ]
  },
  {
   "cell_type": "markdown",
   "metadata": {},
   "source": [
    "# OOP Basics"
   ]
  },
  {
   "cell_type": "code",
   "execution_count": 1,
   "metadata": {},
   "outputs": [],
   "source": [
    "from datetime import datetime\n",
    "\n",
    "class Employee:\n",
    "    Company = \"Ferraxis\"\n",
    "    employees = []  # List to store all employees\n",
    "\n",
    "    def __init__(self, name, age, job, income, start_date):\n",
    "        self.name = name\n",
    "        self.age = age\n",
    "        self.job = job\n",
    "        self.income = income\n",
    "        self.start_date = datetime.strptime(start_date, \"%B %d, %Y\")\n",
    "        Employee.employees.append(self)  # Add employee to list\n",
    "\n",
    "    def description(self):\n",
    "        return f\"{self.name} joined the company on {self.start_date.strftime('%B %d, %Y')} as a {self.job}.\"\n",
    "\n",
    "    def calculate_tenure(self):\n",
    "        today = datetime.today()\n",
    "        tenure = today.year - self.start_date.year - ((today.month, today.day) < (self.start_date.month, self.start_date.day))\n",
    "        return tenure\n",
    "\n",
    "    def promotion(self, new_job, salary_increase):\n",
    "        self.job = new_job\n",
    "        self.income += salary_increase\n",
    "\n",
    "    @classmethod\n",
    "    def average_income(cls):\n",
    "        return sum(emp.income for emp in cls.employees) / len(cls.employees)\n",
    "\n"
   ]
  },
  {
   "cell_type": "code",
   "execution_count": 13,
   "metadata": {},
   "outputs": [],
   "source": [
    "# Create Employees\n",
    "Employee1 = Employee('Mike', 27, 'Engineer', 85000, 'June 16, 2011')\n",
    "Employee2 = Employee('Lisa', 32, 'Researcher', 65000, 'March 05, 2019')\n",
    "Employee3 = Employee('Ellen', 42, 'HR', 75000, 'January 27, 2021')\n",
    "Employee4 = Employee('John', 29, 'Analyst', 60000, 'April 10, 2020')\n",
    "Employee5 = Employee('Karen', 45, 'Marketing Specialist', 82000, 'August 25, 2015')\n",
    "Employee6 = Employee('Tom', 36, 'Product Manager', 95000, 'October 03, 2017')\n",
    "Employee7 = Employee('Sally', 33, 'UX Designer', 78000, 'January 15, 2018')\n",
    "Employee8 = Employee('Alex', 39, 'Data Scientist', 105000, 'September 12, 2014')\n",
    "Employee9 = Employee('Emma', 31, 'Financial Analyst', 67000, 'June 01, 2021')\n",
    "Employee10 = Employee('James', 26, 'Junior Engineer', 62000, 'July 22, 2022')\n",
    "Employee11 = Employee('Linda', 48, 'Operations Manager', 98000, 'March 30, 2012')\n",
    "Employee12 = Employee('Daniel', 38, 'Compliance Officer', 86000, 'November 11, 2019')\n",
    "Employee13 = Employee('Laura', 34, 'Project Coordinator', 73000, 'May 09, 2016')\n"
   ]
  },
  {
   "cell_type": "code",
   "execution_count": 14,
   "metadata": {},
   "outputs": [
    {
     "name": "stdout",
     "output_type": "stream",
     "text": [
      "Mike joined the company on June 16, 2011 as a Engineer.\n"
     ]
    }
   ],
   "source": [
    "# Generate Ddescription\n",
    "print(Employee1.description())"
   ]
  },
  {
   "cell_type": "code",
   "execution_count": 15,
   "metadata": {},
   "outputs": [
    {
     "name": "stdout",
     "output_type": "stream",
     "text": [
      "Tenure of Mike: 13 years\n"
     ]
    }
   ],
   "source": [
    "# Determine tenure\n",
    "tenure_employee1 = Employee1.calculate_tenure()\n",
    "print(f\"Tenure of {Employee1.name}: {tenure_employee1} years\")"
   ]
  },
  {
   "cell_type": "code",
   "execution_count": 16,
   "metadata": {},
   "outputs": [
    {
     "name": "stdout",
     "output_type": "stream",
     "text": [
      "Lisa's new job title: Lead Researcher\n",
      "Lisa's new income: 75000\n"
     ]
    }
   ],
   "source": [
    "# Promote an employee\n",
    "Employee2.promotion('Lead Researcher', 10000)\n",
    "print(f\"{Employee2.name}'s new job title: {Employee2.job}\")\n",
    "print(f\"{Employee2.name}'s new income: {Employee2.income}\")"
   ]
  },
  {
   "cell_type": "code",
   "execution_count": 17,
   "metadata": {},
   "outputs": [
    {
     "name": "stdout",
     "output_type": "stream",
     "text": [
      "Average income at AcuSteel: 79750.0\n"
     ]
    }
   ],
   "source": [
    "# Calculate company average\n",
    "avg_income = Employee.average_income()\n",
    "print(f\"Average income at {Employee.Company}: {round(avg_income, 2)}\")"
   ]
  },
  {
   "cell_type": "code",
   "execution_count": 18,
   "metadata": {},
   "outputs": [
    {
     "name": "stdout",
     "output_type": "stream",
     "text": [
      "Mike joined the company on June 16, 2011 as a Engineer.\n",
      "Lisa joined the company on March 05, 2019 as a Lead Researcher.\n",
      "Ellen joined the company on January 27, 2021 as a HR.\n",
      "Mike joined the company on June 16, 2011 as a Engineer.\n",
      "Lisa joined the company on March 05, 2019 as a Lead Researcher.\n",
      "Ellen joined the company on January 27, 2021 as a HR.\n",
      "John joined the company on April 10, 2020 as a Analyst.\n",
      "Karen joined the company on August 25, 2015 as a Marketing Specialist.\n",
      "Tom joined the company on October 03, 2017 as a Product Manager.\n",
      "Sally joined the company on January 15, 2018 as a UX Designer.\n",
      "Alex joined the company on September 12, 2014 as a Data Scientist.\n",
      "Emma joined the company on June 01, 2021 as a Financial Analyst.\n",
      "James joined the company on July 22, 2022 as a Junior Engineer.\n",
      "Linda joined the company on March 30, 2012 as a Operations Manager.\n",
      "Daniel joined the company on November 11, 2019 as a Compliance Officer.\n",
      "Laura joined the company on May 09, 2016 as a Project Coordinator.\n"
     ]
    }
   ],
   "source": [
    "# List all employees\n",
    "for emp in Employee.employees:\n",
    "    print(emp.description())"
   ]
  },
  {
   "cell_type": "code",
   "execution_count": 19,
   "metadata": {},
   "outputs": [
    {
     "name": "stdout",
     "output_type": "stream",
     "text": [
      "New company name for Mike: AcuSteel\n",
      "New company name for Lisa: AcuSteel\n"
     ]
    }
   ],
   "source": [
    "# Update Company name\n",
    "Employee.Company = \"AcuSteel\"\n",
    "print(f\"New company name for {Employee1.name}: {Employee1.Company}\")\n",
    "print(f\"New company name for {Employee2.name}: {Employee2.Company}\")"
   ]
  },
  {
   "cell_type": "code",
   "execution_count": 20,
   "metadata": {},
   "outputs": [
    {
     "name": "stdout",
     "output_type": "stream",
     "text": [
      "Mike joined the company on June 16, 2011 as a Engineer.\n",
      "Mike joined the company on June 16, 2011 as a Engineer.\n",
      "Linda joined the company on March 30, 2012 as a Operations Manager.\n"
     ]
    }
   ],
   "source": [
    "# Filter employyes by criteria\n",
    "# Find all employees with more than 10 years of tenure\n",
    "long_tenure_employees = [emp for emp in Employee.employees if emp.calculate_tenure() > 10]\n",
    "for emp in long_tenure_employees:\n",
    "    print(emp.description())"
   ]
  },
  {
   "cell_type": "code",
   "execution_count": 21,
   "metadata": {},
   "outputs": [
    {
     "name": "stdout",
     "output_type": "stream",
     "text": [
      "Mike: Engineer, Income: $85000, Tenure: 13 years\n",
      "Lisa: Lead Researcher, Income: $75000, Tenure: 5 years\n",
      "Ellen: HR, Income: $75000, Tenure: 3 years\n",
      "Mike: Engineer, Income: $85000, Tenure: 13 years\n",
      "Lisa: Lead Researcher, Income: $75000, Tenure: 5 years\n",
      "Ellen: HR, Income: $75000, Tenure: 3 years\n",
      "John: Analyst, Income: $60000, Tenure: 4 years\n",
      "Karen: Marketing Specialist, Income: $82000, Tenure: 9 years\n",
      "Tom: Product Manager, Income: $95000, Tenure: 7 years\n",
      "Sally: UX Designer, Income: $78000, Tenure: 6 years\n",
      "Alex: Data Scientist, Income: $105000, Tenure: 10 years\n",
      "Emma: Financial Analyst, Income: $67000, Tenure: 3 years\n",
      "James: Junior Engineer, Income: $62000, Tenure: 2 years\n",
      "Linda: Operations Manager, Income: $98000, Tenure: 12 years\n",
      "Daniel: Compliance Officer, Income: $86000, Tenure: 4 years\n",
      "Laura: Project Coordinator, Income: $73000, Tenure: 8 years\n"
     ]
    }
   ],
   "source": [
    "# Get summary report\n",
    "for emp in Employee.employees:\n",
    "    print(f\"{emp.name}: {emp.job}, Income: ${emp.income}, Tenure: {emp.calculate_tenure()} years\")"
   ]
  },
  {
   "cell_type": "code",
   "execution_count": null,
   "metadata": {},
   "outputs": [],
   "source": []
  },
  {
   "cell_type": "markdown",
   "metadata": {},
   "source": [
    "# End"
   ]
  },
  {
   "cell_type": "markdown",
   "metadata": {},
   "source": [
    "## Show Session Information"
   ]
  },
  {
   "cell_type": "code",
   "execution_count": 8,
   "metadata": {},
   "outputs": [
    {
     "data": {
      "text/html": [
       "<details>\n",
       "<summary>Click to view session information</summary>\n",
       "<pre>\n",
       "-----\n",
       "numpy               2.1.1\n",
       "pandas              2.2.3\n",
       "session_info        1.0.0\n",
       "-----\n",
       "</pre>\n",
       "<details>\n",
       "<summary>Click to view modules imported as dependencies</summary>\n",
       "<pre>\n",
       "asttokens           NA\n",
       "colorama            0.4.6\n",
       "comm                0.2.2\n",
       "cython_runtime      NA\n",
       "dateutil            2.9.0.post0\n",
       "debugpy             1.8.6\n",
       "decorator           5.1.1\n",
       "executing           2.1.0\n",
       "ipykernel           6.29.5\n",
       "jedi                0.19.1\n",
       "packaging           24.1\n",
       "parso               0.8.4\n",
       "platformdirs        4.3.6\n",
       "prompt_toolkit      3.0.48\n",
       "psutil              6.0.0\n",
       "pure_eval           0.2.3\n",
       "pydev_ipython       NA\n",
       "pydevconsole        NA\n",
       "pydevd              3.1.0\n",
       "pydevd_file_utils   NA\n",
       "pydevd_plugins      NA\n",
       "pydevd_tracing      NA\n",
       "pygments            2.18.0\n",
       "pytz                2024.2\n",
       "pywin32_bootstrap   NA\n",
       "pywin32_system32    NA\n",
       "six                 1.16.0\n",
       "stack_data          0.6.3\n",
       "tornado             6.4.1\n",
       "traitlets           5.14.3\n",
       "vscode              NA\n",
       "wcwidth             0.2.13\n",
       "zmq                 26.2.0\n",
       "</pre>\n",
       "</details> <!-- seems like this ends pre, so might as well be explicit -->\n",
       "<pre>\n",
       "-----\n",
       "IPython             8.28.0\n",
       "jupyter_client      8.6.3\n",
       "jupyter_core        5.7.2\n",
       "-----\n",
       "Python 3.12.7 (tags/v3.12.7:0b05ead, Oct  1 2024, 03:06:41) [MSC v.1941 64 bit (AMD64)]\n",
       "Windows-10-10.0.19045-SP0\n",
       "-----\n",
       "Session information updated at 2024-10-03 16:12\n",
       "</pre>\n",
       "</details>"
      ],
      "text/plain": [
       "<IPython.core.display.HTML object>"
      ]
     },
     "execution_count": 8,
     "metadata": {},
     "output_type": "execute_result"
    }
   ],
   "source": [
    "import session_info\n",
    "session_info.show()"
   ]
  },
  {
   "cell_type": "markdown",
   "metadata": {},
   "source": [
    "## Save Session Requirements"
   ]
  },
  {
   "cell_type": "code",
   "execution_count": 9,
   "metadata": {},
   "outputs": [],
   "source": [
    "# Replace spaces in notebook title with underscores\n",
    "filename = Notebook_title.replace(\" \", \"_\") + \"_requirements.txt\"\n",
    "\n",
    "# Run the pip freeze command and save the output txt file\n",
    "!pip freeze > $filename"
   ]
  }
 ],
 "metadata": {
  "kernelspec": {
   "display_name": ".venv",
   "language": "python",
   "name": "python3"
  },
  "language_info": {
   "codemirror_mode": {
    "name": "ipython",
    "version": 3
   },
   "file_extension": ".py",
   "mimetype": "text/x-python",
   "name": "python",
   "nbconvert_exporter": "python",
   "pygments_lexer": "ipython3",
   "version": "3.12.7"
  }
 },
 "nbformat": 4,
 "nbformat_minor": 2
}
